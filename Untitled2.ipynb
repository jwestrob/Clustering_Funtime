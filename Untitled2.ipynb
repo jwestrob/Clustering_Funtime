{
 "cells": [
  {
   "cell_type": "code",
   "execution_count": 3,
   "metadata": {},
   "outputs": [
    {
     "name": "stderr",
     "output_type": "stream",
     "text": [
      "\n",
      "Attaching package: ‘apcluster’\n",
      "\n",
      "The following object is masked from ‘package:stats’:\n",
      "\n",
      "    heatmap\n",
      "\n"
     ]
    }
   ],
   "source": [
    "library(apcluster)\n",
    "library(ggplot2)"
   ]
  },
  {
   "cell_type": "code",
   "execution_count": 7,
   "metadata": {},
   "outputs": [
    {
     "data": {
      "text/html": [
       "<ol class=list-inline>\n",
       "\t<li>'10_genome.mprf'</li>\n",
       "\t<li>'contig_labels.npy'</li>\n",
       "\t<li>'data'</li>\n",
       "\t<li>'data.csv'</li>\n",
       "\t<li>'data.dat'</li>\n",
       "\t<li>'Maxbin_Simulated_80x_metagenome.scaffold.fasta'</li>\n",
       "\t<li>'new_pentamer.py'</li>\n",
       "\t<li>'Optimizing UMAP and tSNE Embedding Parameters.ipynb'</li>\n",
       "\t<li>'pentamer_classification.py'</li>\n",
       "\t<li>'pentamer_fixed_data.npy'</li>\n",
       "\t<li>'pentamer_fixed_labels.npy'</li>\n",
       "\t<li>'Pentamer_Multilabel_Classifier.ipynb'</li>\n",
       "\t<li>'pentamer.npy'</li>\n",
       "\t<li>'septamer_fixed_data.npy'</li>\n",
       "\t<li>'septamer_fixed_labels.npy'</li>\n",
       "\t<li>'sextamer_fixed_data.npy'</li>\n",
       "\t<li>'sextamer_fixed_labels.npy'</li>\n",
       "\t<li>'tetramer_fixed_data.npy'</li>\n",
       "\t<li>'tetramer_fixed_labels.npy'</li>\n",
       "\t<li>'tsne_p80_pentamer_csv.csv'</li>\n",
       "\t<li>'tsne_p80_pentamer_embedding.npy'</li>\n",
       "\t<li>'umap_canberra_pentamer_csv.csv'</li>\n",
       "\t<li>'umap_canberra_pentamer_embedding.npy'</li>\n",
       "\t<li>'UMAP.ipynb'</li>\n",
       "\t<li>'Untitled1.ipynb'</li>\n",
       "\t<li>'Untitled2.ipynb'</li>\n",
       "\t<li>'Untitled.ipynb'</li>\n",
       "</ol>\n"
      ],
      "text/latex": [
       "\\begin{enumerate*}\n",
       "\\item '10\\_genome.mprf'\n",
       "\\item 'contig\\_labels.npy'\n",
       "\\item 'data'\n",
       "\\item 'data.csv'\n",
       "\\item 'data.dat'\n",
       "\\item 'Maxbin\\_Simulated\\_80x\\_metagenome.scaffold.fasta'\n",
       "\\item 'new\\_pentamer.py'\n",
       "\\item 'Optimizing UMAP and tSNE Embedding Parameters.ipynb'\n",
       "\\item 'pentamer\\_classification.py'\n",
       "\\item 'pentamer\\_fixed\\_data.npy'\n",
       "\\item 'pentamer\\_fixed\\_labels.npy'\n",
       "\\item 'Pentamer\\_Multilabel\\_Classifier.ipynb'\n",
       "\\item 'pentamer.npy'\n",
       "\\item 'septamer\\_fixed\\_data.npy'\n",
       "\\item 'septamer\\_fixed\\_labels.npy'\n",
       "\\item 'sextamer\\_fixed\\_data.npy'\n",
       "\\item 'sextamer\\_fixed\\_labels.npy'\n",
       "\\item 'tetramer\\_fixed\\_data.npy'\n",
       "\\item 'tetramer\\_fixed\\_labels.npy'\n",
       "\\item 'tsne\\_p80\\_pentamer\\_csv.csv'\n",
       "\\item 'tsne\\_p80\\_pentamer\\_embedding.npy'\n",
       "\\item 'umap\\_canberra\\_pentamer\\_csv.csv'\n",
       "\\item 'umap\\_canberra\\_pentamer\\_embedding.npy'\n",
       "\\item 'UMAP.ipynb'\n",
       "\\item 'Untitled1.ipynb'\n",
       "\\item 'Untitled2.ipynb'\n",
       "\\item 'Untitled.ipynb'\n",
       "\\end{enumerate*}\n"
      ],
      "text/markdown": [
       "1. '10_genome.mprf'\n",
       "2. 'contig_labels.npy'\n",
       "3. 'data'\n",
       "4. 'data.csv'\n",
       "5. 'data.dat'\n",
       "6. 'Maxbin_Simulated_80x_metagenome.scaffold.fasta'\n",
       "7. 'new_pentamer.py'\n",
       "8. 'Optimizing UMAP and tSNE Embedding Parameters.ipynb'\n",
       "9. 'pentamer_classification.py'\n",
       "10. 'pentamer_fixed_data.npy'\n",
       "11. 'pentamer_fixed_labels.npy'\n",
       "12. 'Pentamer_Multilabel_Classifier.ipynb'\n",
       "13. 'pentamer.npy'\n",
       "14. 'septamer_fixed_data.npy'\n",
       "15. 'septamer_fixed_labels.npy'\n",
       "16. 'sextamer_fixed_data.npy'\n",
       "17. 'sextamer_fixed_labels.npy'\n",
       "18. 'tetramer_fixed_data.npy'\n",
       "19. 'tetramer_fixed_labels.npy'\n",
       "20. 'tsne_p80_pentamer_csv.csv'\n",
       "21. 'tsne_p80_pentamer_embedding.npy'\n",
       "22. 'umap_canberra_pentamer_csv.csv'\n",
       "23. 'umap_canberra_pentamer_embedding.npy'\n",
       "24. 'UMAP.ipynb'\n",
       "25. 'Untitled1.ipynb'\n",
       "26. 'Untitled2.ipynb'\n",
       "27. 'Untitled.ipynb'\n",
       "\n",
       "\n"
      ],
      "text/plain": [
       " [1] \"10_genome.mprf\"                                     \n",
       " [2] \"contig_labels.npy\"                                  \n",
       " [3] \"data\"                                               \n",
       " [4] \"data.csv\"                                           \n",
       " [5] \"data.dat\"                                           \n",
       " [6] \"Maxbin_Simulated_80x_metagenome.scaffold.fasta\"     \n",
       " [7] \"new_pentamer.py\"                                    \n",
       " [8] \"Optimizing UMAP and tSNE Embedding Parameters.ipynb\"\n",
       " [9] \"pentamer_classification.py\"                         \n",
       "[10] \"pentamer_fixed_data.npy\"                            \n",
       "[11] \"pentamer_fixed_labels.npy\"                          \n",
       "[12] \"Pentamer_Multilabel_Classifier.ipynb\"               \n",
       "[13] \"pentamer.npy\"                                       \n",
       "[14] \"septamer_fixed_data.npy\"                            \n",
       "[15] \"septamer_fixed_labels.npy\"                          \n",
       "[16] \"sextamer_fixed_data.npy\"                            \n",
       "[17] \"sextamer_fixed_labels.npy\"                          \n",
       "[18] \"tetramer_fixed_data.npy\"                            \n",
       "[19] \"tetramer_fixed_labels.npy\"                          \n",
       "[20] \"tsne_p80_pentamer_csv.csv\"                          \n",
       "[21] \"tsne_p80_pentamer_embedding.npy\"                    \n",
       "[22] \"umap_canberra_pentamer_csv.csv\"                     \n",
       "[23] \"umap_canberra_pentamer_embedding.npy\"               \n",
       "[24] \"UMAP.ipynb\"                                         \n",
       "[25] \"Untitled1.ipynb\"                                    \n",
       "[26] \"Untitled2.ipynb\"                                    \n",
       "[27] \"Untitled.ipynb\"                                     "
      ]
     },
     "metadata": {},
     "output_type": "display_data"
    }
   ],
   "source": [
    "system('ls', intern=TRUE)"
   ]
  },
  {
   "cell_type": "code",
   "execution_count": 9,
   "metadata": {},
   "outputs": [],
   "source": [
    "t_embedding <- read.csv('tsne_p80_pentamer_csv.csv')\n",
    "u_embedding <- read.csv('umap_canberra_pentamer_csv.csv')"
   ]
  },
  {
   "cell_type": "code",
   "execution_count": null,
   "metadata": {},
   "outputs": [],
   "source": [
    "apres1a <- apcluster(negDistMat(r=2), t_embedding)"
   ]
  },
  {
   "cell_type": "code",
   "execution_count": null,
   "metadata": {},
   "outputs": [],
   "source": []
  }
 ],
 "metadata": {
  "kernelspec": {
   "display_name": "R",
   "language": "R",
   "name": "ir"
  },
  "language_info": {
   "codemirror_mode": "r",
   "file_extension": ".r",
   "mimetype": "text/x-r-source",
   "name": "R",
   "pygments_lexer": "r",
   "version": "3.4.4"
  }
 },
 "nbformat": 4,
 "nbformat_minor": 2
}
