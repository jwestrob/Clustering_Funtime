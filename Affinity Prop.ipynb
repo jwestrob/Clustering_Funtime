{
 "cells": [
  {
   "cell_type": "code",
   "execution_count": 1,
   "metadata": {},
   "outputs": [
    {
     "name": "stderr",
     "output_type": "stream",
     "text": [
      "/home/jacob/anaconda3/lib/python3.6/site-packages/h5py/__init__.py:36: FutureWarning: Conversion of the second argument of issubdtype from `float` to `np.floating` is deprecated. In future, it will be treated as `np.float64 == np.dtype(float).type`.\n",
      "  from ._conv import register_converters as _register_converters\n"
     ]
    }
   ],
   "source": [
    "from time import time\n",
    "import os, sys, csv\n",
    "import numpy as np\n",
    "from pylab import *\n",
    "import pylab as pylab\n",
    "import matplotlib.pyplot as plt\n",
    "from mpl_toolkits.mplot3d import Axes3D\n",
    "from matplotlib.ticker import NullFormatter\n",
    "from MulticoreTSNE import MulticoreTSNE as TSNE\n",
    "from scipy import stats\n",
    "\n",
    "\n",
    "from kpal.klib import Profile\n",
    "\n",
    "import pandas as pd\n",
    "\n",
    "\n",
    "from sklearn import manifold\n",
    "from sklearn.utils import check_random_state\n",
    "from sklearn.model_selection import train_test_split\n",
    "from sklearn import svm\n",
    "from sklearn import metrics\n",
    "from sklearn.cluster import AffinityPropagation\n",
    "\n",
    "\n",
    "import umap\n",
    "from sklearn.datasets import load_digits\n",
    "from Bio import SeqIO\n",
    "from io import StringIO\n",
    "import sys"
   ]
  },
  {
   "cell_type": "code",
   "execution_count": 17,
   "metadata": {},
   "outputs": [],
   "source": [
    "labels_true = np.load('contig_labels.npy')\n",
    "\n",
    "def Affinity_Prop_And_Plot(embedding, preference, labels_true):\n",
    "    # #############################################################################\n",
    "    # Compute Affinity Propagation\n",
    "    af = AffinityPropagation(preference=preference, affinity='precomputed').fit(embedding)\n",
    "    cluster_centers_indices = af.cluster_centers_indices_\n",
    "    labels = af.labels_\n",
    "\n",
    "    n_clusters_ = len(cluster_centers_indices)\n",
    "\n",
    "\n",
    "    print('Estimated number of clusters: %d' % n_clusters_)\n",
    "    print(\"Homogeneity: %0.3f\" % metrics.homogeneity_score(labels_true, labels))\n",
    "    print(\"Completeness: %0.3f\" % metrics.completeness_score(labels_true, labels))\n",
    "    print(\"V-measure: %0.3f\" % metrics.v_measure_score(labels_true, labels))\n",
    "    print(\"Adjusted Rand Index: %0.3f\"\n",
    "          % metrics.adjusted_rand_score(labels_true, labels))\n",
    "    print(\"Adjusted Mutual Information: %0.3f\"\n",
    "          % metrics.adjusted_mutual_info_score(labels_true, labels))\n",
    "\n",
    "    # #############################################################################\n",
    "    # Plot result\n",
    "    import matplotlib.pyplot as plt\n",
    "    from itertools import cycle\n",
    "\n",
    "    plt.close('all')\n",
    "    fig = plt.figure(1)\n",
    "    plt.clf()\n",
    "\n",
    "    colors = cycle('bgrcmykbgrcmykbgrcmykbgrcmyk')\n",
    "    ax = fig.add_subplot(111, projection='3d')\n",
    "\n",
    "    cmspec = plt.get_cmap(\"nipy_spectral\")\n",
    "\n",
    "\n",
    "    ax.scatter(embedding[:,0], \\\n",
    "              embedding[:,1], \\\n",
    "              embedding[:,2], \\\n",
    "              c=labels, cmap=cmspec) \n",
    "\n",
    "\n",
    "    plt.title('Estimated number of clusters: %d' % n_clusters_)\n",
    "    plt.show()\n",
    "    return labels"
   ]
  },
  {
   "cell_type": "code",
   "execution_count": 18,
   "metadata": {},
   "outputs": [],
   "source": [
    "u_embedding = np.load('umap_canberra_pentamer_embedding.npy')\n",
    "t_embedding = np.load('tsne_p80_pentamer_embedding.npy')\n",
    "canberra_dist_u = metrics.pairwise.pairwise_distances(u_embedding)\n",
    "canberra_dist_t = metrics.pairwise.pairwise_distances(t_embedding)"
   ]
  },
  {
   "cell_type": "code",
   "execution_count": null,
   "metadata": {},
   "outputs": [],
   "source": [
    "ap_labels = Affinity_Prop_And_Plot(canberra_dist_u, -60, labels_true)"
   ]
  },
  {
   "cell_type": "code",
   "execution_count": null,
   "metadata": {},
   "outputs": [],
   "source": []
  }
 ],
 "metadata": {
  "kernelspec": {
   "display_name": "Python 3",
   "language": "python",
   "name": "python3"
  },
  "language_info": {
   "codemirror_mode": {
    "name": "ipython",
    "version": 3
   },
   "file_extension": ".py",
   "mimetype": "text/x-python",
   "name": "python",
   "nbconvert_exporter": "python",
   "pygments_lexer": "ipython3",
   "version": "3.6.4"
  }
 },
 "nbformat": 4,
 "nbformat_minor": 2
}
