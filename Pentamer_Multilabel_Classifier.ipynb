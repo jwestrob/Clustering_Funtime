{
 "cells": [
  {
   "cell_type": "code",
   "execution_count": 8,
   "metadata": {},
   "outputs": [],
   "source": [
    "import keras\n",
    "from keras.models import Sequential\n",
    "from keras.layers import Dense, Dropout, Activation\n",
    "from keras.optimizers import SGD\n",
    "import numpy as np\n",
    "from sklearn.model_selection import train_test_split\n",
    "%matplotlib inline\n",
    "import math\n",
    "import pandas as pd\n",
    "import matplotlib.pyplot as plt\n",
    "from keras.utils import to_categorical\n",
    "\n",
    "from keras.layers import Embedding, Reshape, Merge, Dropout, Dense\n",
    "from keras.layers import Input, Embedding, LSTM, Lambda\n",
    "from keras.models import Model\n",
    "from keras.callbacks import Callback, EarlyStopping, ModelCheckpoint\n",
    "import keras.backend as K\n",
    "\n"
   ]
  },
  {
   "cell_type": "markdown",
   "metadata": {},
   "source": [
    "## This first dataset was generated without 'chunking', meaning that patterns that otherwise might be easy to observe with a dataset consisting of contigs of proportional length could be obscured. Let's see how well we can do anyway."
   ]
  },
  {
   "cell_type": "code",
   "execution_count": 2,
   "metadata": {},
   "outputs": [],
   "source": [
    "contig_labels = np.load('/home/jacob/Documents/Corals/contig_labels.npy')\n",
    "pentamer = np.load('/home/jacob/Documents/Corals/pentamer.npy')"
   ]
  },
  {
   "cell_type": "code",
   "execution_count": 3,
   "metadata": {},
   "outputs": [],
   "source": [
    "X_train, X_test, y_train, y_test = train_test_split(pentamer, contig_labels, test_size = 0.25, random_state=420)"
   ]
  },
  {
   "cell_type": "code",
   "execution_count": 13,
   "metadata": {},
   "outputs": [],
   "source": [
    "model = Sequential()\n",
    "# Dense(64) is a fully-connected layer with 64 hidden units.\n",
    "# in the first layer, you must specify the expected input data shape:\n",
    "# here, 20-dimensional vectors.\n",
    "model.add(Dense(1024, activation='relu', input_dim=1024))\n",
    "model.add(Dropout(0.5))\n",
    "model.add(Dense(512, activation='relu'))\n",
    "model.add(Dropout(0.5))\n",
    "model.add(Dense(512, activation='relu'))\n",
    "model.add(Dropout(0.25))\n",
    "model.add(Dense(256, activation='relu'))\n",
    "model.add(Dropout(0.25))\n",
    "model.add(Dense(256, activation='relu'))\n",
    "model.add(Dropout(0.25))\n",
    "model.add(Dense(128, activation='relu'))\n",
    "model.add(Dropout(0.5))\n",
    "model.add(Dense(56, activation='relu'))\n",
    "model.add(Dropout(0.25))\n",
    "model.add(Dense(10, activation='tanh'))\n",
    "model.add(Dense(10, activation='softmax'))"
   ]
  },
  {
   "cell_type": "code",
   "execution_count": 17,
   "metadata": {},
   "outputs": [],
   "source": [
    "from keras.callbacks import Callback, EarlyStopping, ModelCheckpoint\n",
    "\n",
    "callbacks = [EarlyStopping('val_loss', patience=4)]"
   ]
  },
  {
   "cell_type": "code",
   "execution_count": 39,
   "metadata": {},
   "outputs": [],
   "source": [
    "sgd = SGD(lr=0.01, decay=1e-6, momentum=0.9, nesterov=True)\n",
    "RMSprop = keras.optimizers.RMSprop(lr=0.001, rho=0.9, epsilon=None, decay=0.0)\n",
    "\n",
    "model.compile(loss='categorical_crossentropy',\n",
    "              optimizer=RMSprop,\n",
    "              metrics=['accuracy'])\n",
    "\n",
    "y_binary_train = to_categorical(y_train)\n",
    "y_binary_test = to_categorical(y_test)\n",
    "\n",
    "#history = model.fit(X_train, y_binary_train,\n",
    "#          epochs=100,\n",
    "#          batch_size=128, validation_split=.1)\n",
    "#score = model.evaluate(X_test, y_binary_test, batch_size=128)"
   ]
  },
  {
   "cell_type": "code",
   "execution_count": 11,
   "metadata": {},
   "outputs": [
    {
     "data": {
      "text/plain": [
       "[1.2355958243990455, 0.8894549162789868]"
      ]
     },
     "execution_count": 11,
     "metadata": {},
     "output_type": "execute_result"
    }
   ],
   "source": [
    "score"
   ]
  },
  {
   "cell_type": "code",
   "execution_count": 15,
   "metadata": {},
   "outputs": [
    {
     "data": {
      "image/png": "[encoded data removed]",
      "text/plain": [
       "<matplotlib.figure.Figure at 0x7fb2cd869940>"
      ]
     },
     "metadata": {},
     "output_type": "display_data"
    }
   ],
   "source": [
    "plt.plot(history.history['acc'])\n",
    "plt.plot(history.history['val_acc'])\n",
    "plt.title('model accuracy')\n",
    "plt.ylabel('accuracy')\n",
    "plt.xlabel('epoch')\n",
    "plt.legend(['train', 'test'], loc='upper left')\n",
    "plt.show()"
   ]
  },
  {
   "cell_type": "code",
   "execution_count": 16,
   "metadata": {},
   "outputs": [
    {
     "name": "stdout",
     "output_type": "stream",
     "text": [
      "Train on 10597 samples, validate on 1178 samples\n",
      "Epoch 1/100\n",
      "10597/10597 [==============================] - 1s 94us/step - loss: 0.0688 - acc: 0.4028 - val_loss: 0.0456 - val_acc: 0.5917\n",
      "Epoch 2/100\n",
      "10597/10597 [==============================] - 1s 51us/step - loss: 0.0463 - acc: 0.6268 - val_loss: 0.0400 - val_acc: 0.6732\n",
      "Epoch 3/100\n",
      "10597/10597 [==============================] - 1s 51us/step - loss: 0.0421 - acc: 0.6636 - val_loss: 0.0403 - val_acc: 0.6952\n",
      "Epoch 4/100\n",
      "10597/10597 [==============================] - 1s 48us/step - loss: 0.0391 - acc: 0.6900 - val_loss: 0.0424 - val_acc: 0.6783\n",
      "Epoch 5/100\n",
      "10597/10597 [==============================] - 1s 48us/step - loss: 0.0367 - acc: 0.7134 - val_loss: 0.0356 - val_acc: 0.7377\n",
      "Epoch 6/100\n",
      "10597/10597 [==============================] - 1s 48us/step - loss: 0.0349 - acc: 0.7425 - val_loss: 0.0323 - val_acc: 0.7835\n",
      "Epoch 7/100\n",
      "10597/10597 [==============================] - 1s 48us/step - loss: 0.0311 - acc: 0.7765 - val_loss: 0.0299 - val_acc: 0.7997\n",
      "Epoch 8/100\n",
      "10597/10597 [==============================] - 1s 48us/step - loss: 0.0291 - acc: 0.7992 - val_loss: 0.0302 - val_acc: 0.8065\n",
      "Epoch 9/100\n",
      "10597/10597 [==============================] - 1s 50us/step - loss: 0.0263 - acc: 0.8193 - val_loss: 0.0255 - val_acc: 0.8336\n",
      "Epoch 10/100\n",
      "10597/10597 [==============================] - 1s 48us/step - loss: 0.0232 - acc: 0.8472 - val_loss: 0.0258 - val_acc: 0.8379\n",
      "Epoch 11/100\n",
      "10597/10597 [==============================] - 1s 48us/step - loss: 0.0214 - acc: 0.8584 - val_loss: 0.0240 - val_acc: 0.8472\n",
      "Epoch 12/100\n",
      "10597/10597 [==============================] - 1s 49us/step - loss: 0.0199 - acc: 0.8703 - val_loss: 0.0240 - val_acc: 0.8353\n",
      "Epoch 13/100\n",
      "10597/10597 [==============================] - 1s 48us/step - loss: 0.0180 - acc: 0.8800 - val_loss: 0.0198 - val_acc: 0.8718\n",
      "Epoch 14/100\n",
      "10597/10597 [==============================] - 1s 47us/step - loss: 0.0176 - acc: 0.8885 - val_loss: 0.0197 - val_acc: 0.8659\n",
      "Epoch 15/100\n",
      "10597/10597 [==============================] - 1s 47us/step - loss: 0.0163 - acc: 0.8944 - val_loss: 0.0192 - val_acc: 0.8829\n",
      "Epoch 16/100\n",
      "10597/10597 [==============================] - 0s 47us/step - loss: 0.0162 - acc: 0.8969 - val_loss: 0.0203 - val_acc: 0.8778\n",
      "Epoch 17/100\n",
      "10597/10597 [==============================] - 1s 48us/step - loss: 0.0153 - acc: 0.9012 - val_loss: 0.0223 - val_acc: 0.8650\n",
      "Epoch 18/100\n",
      "10597/10597 [==============================] - 1s 49us/step - loss: 0.0149 - acc: 0.9050 - val_loss: 0.0187 - val_acc: 0.8871\n",
      "Epoch 19/100\n",
      "10597/10597 [==============================] - 0s 46us/step - loss: 0.0142 - acc: 0.9118 - val_loss: 0.0186 - val_acc: 0.8820\n",
      "Epoch 20/100\n",
      "10597/10597 [==============================] - 1s 49us/step - loss: 0.0139 - acc: 0.9137 - val_loss: 0.0196 - val_acc: 0.8829\n",
      "Epoch 21/100\n",
      "10597/10597 [==============================] - 1s 48us/step - loss: 0.0137 - acc: 0.9141 - val_loss: 0.0197 - val_acc: 0.8820\n",
      "Epoch 22/100\n",
      "10597/10597 [==============================] - 1s 47us/step - loss: 0.0134 - acc: 0.9174 - val_loss: 0.0200 - val_acc: 0.8837\n",
      "Epoch 23/100\n",
      "10597/10597 [==============================] - 1s 47us/step - loss: 0.0128 - acc: 0.9217 - val_loss: 0.0193 - val_acc: 0.8837\n",
      "Epoch 24/100\n",
      "10597/10597 [==============================] - 1s 49us/step - loss: 0.0127 - acc: 0.9232 - val_loss: 0.0221 - val_acc: 0.8752\n",
      "Epoch 25/100\n",
      "10597/10597 [==============================] - 1s 47us/step - loss: 0.0123 - acc: 0.9245 - val_loss: 0.0202 - val_acc: 0.8829\n",
      "Epoch 26/100\n",
      "10597/10597 [==============================] - 1s 48us/step - loss: 0.0121 - acc: 0.9247 - val_loss: 0.0189 - val_acc: 0.8896\n",
      "Epoch 27/100\n",
      "10597/10597 [==============================] - 1s 48us/step - loss: 0.0113 - acc: 0.9301 - val_loss: 0.0191 - val_acc: 0.8913\n",
      "Epoch 28/100\n",
      "10597/10597 [==============================] - 1s 48us/step - loss: 0.0112 - acc: 0.9313 - val_loss: 0.0189 - val_acc: 0.8879\n",
      "Epoch 29/100\n",
      "10597/10597 [==============================] - 1s 50us/step - loss: 0.0114 - acc: 0.9307 - val_loss: 0.0185 - val_acc: 0.8896\n",
      "Epoch 30/100\n",
      "10597/10597 [==============================] - 1s 48us/step - loss: 0.0112 - acc: 0.9328 - val_loss: 0.0196 - val_acc: 0.8888\n",
      "Epoch 31/100\n",
      "10597/10597 [==============================] - 1s 48us/step - loss: 0.0109 - acc: 0.9330 - val_loss: 0.0176 - val_acc: 0.8990\n",
      "Epoch 32/100\n",
      "10597/10597 [==============================] - 1s 47us/step - loss: 0.0105 - acc: 0.9358 - val_loss: 0.0191 - val_acc: 0.8888\n",
      "Epoch 33/100\n",
      "10597/10597 [==============================] - 1s 48us/step - loss: 0.0105 - acc: 0.9365 - val_loss: 0.0233 - val_acc: 0.8676\n",
      "Epoch 34/100\n",
      "10597/10597 [==============================] - 1s 47us/step - loss: 0.0107 - acc: 0.9371 - val_loss: 0.0188 - val_acc: 0.8922\n",
      "Epoch 35/100\n",
      "10597/10597 [==============================] - 1s 49us/step - loss: 0.0102 - acc: 0.9383 - val_loss: 0.0178 - val_acc: 0.9007\n",
      "Epoch 36/100\n",
      "10597/10597 [==============================] - 1s 48us/step - loss: 0.0102 - acc: 0.9385 - val_loss: 0.0189 - val_acc: 0.8930\n",
      "Epoch 37/100\n",
      "10597/10597 [==============================] - 1s 47us/step - loss: 0.0096 - acc: 0.9423 - val_loss: 0.0208 - val_acc: 0.8812\n",
      "Epoch 38/100\n",
      "10597/10597 [==============================] - 1s 47us/step - loss: 0.0095 - acc: 0.9435 - val_loss: 0.0181 - val_acc: 0.8930\n",
      "Epoch 39/100\n",
      "10597/10597 [==============================] - 1s 48us/step - loss: 0.0093 - acc: 0.9445 - val_loss: 0.0183 - val_acc: 0.8939\n",
      "Epoch 40/100\n",
      "10597/10597 [==============================] - 1s 47us/step - loss: 0.0096 - acc: 0.9419 - val_loss: 0.0192 - val_acc: 0.8905\n",
      "Epoch 41/100\n",
      "10597/10597 [==============================] - 1s 48us/step - loss: 0.0091 - acc: 0.9456 - val_loss: 0.0189 - val_acc: 0.8896\n",
      "Epoch 42/100\n",
      "10597/10597 [==============================] - 0s 47us/step - loss: 0.0094 - acc: 0.9437 - val_loss: 0.0191 - val_acc: 0.8913\n",
      "Epoch 43/100\n",
      "10597/10597 [==============================] - 1s 49us/step - loss: 0.0088 - acc: 0.9485 - val_loss: 0.0216 - val_acc: 0.8786\n",
      "Epoch 44/100\n",
      "10597/10597 [==============================] - 1s 48us/step - loss: 0.0093 - acc: 0.9445 - val_loss: 0.0206 - val_acc: 0.8862\n",
      "Epoch 45/100\n",
      "10597/10597 [==============================] - 1s 49us/step - loss: 0.0092 - acc: 0.9450 - val_loss: 0.0195 - val_acc: 0.8896\n",
      "Epoch 46/100\n",
      "10597/10597 [==============================] - 1s 49us/step - loss: 0.0088 - acc: 0.9478 - val_loss: 0.0180 - val_acc: 0.8981\n",
      "Epoch 47/100\n",
      "10597/10597 [==============================] - 1s 50us/step - loss: 0.0090 - acc: 0.9471 - val_loss: 0.0200 - val_acc: 0.8854\n",
      "Epoch 48/100\n",
      "10597/10597 [==============================] - 1s 48us/step - loss: 0.0089 - acc: 0.9472 - val_loss: 0.0193 - val_acc: 0.8913\n",
      "Epoch 49/100\n",
      "10597/10597 [==============================] - 0s 47us/step - loss: 0.0087 - acc: 0.9479 - val_loss: 0.0183 - val_acc: 0.8973\n",
      "Epoch 50/100\n",
      "10597/10597 [==============================] - 1s 48us/step - loss: 0.0085 - acc: 0.9501 - val_loss: 0.0191 - val_acc: 0.8930\n",
      "Epoch 51/100\n",
      "10597/10597 [==============================] - 1s 49us/step - loss: 0.0086 - acc: 0.9479 - val_loss: 0.0181 - val_acc: 0.9007\n",
      "Epoch 52/100\n",
      "10597/10597 [==============================] - 0s 47us/step - loss: 0.0082 - acc: 0.9509 - val_loss: 0.0184 - val_acc: 0.8981\n",
      "Epoch 53/100\n",
      "10597/10597 [==============================] - 1s 48us/step - loss: 0.0081 - acc: 0.9519 - val_loss: 0.0186 - val_acc: 0.8964\n",
      "Epoch 54/100\n",
      "10597/10597 [==============================] - 1s 48us/step - loss: 0.0081 - acc: 0.9511 - val_loss: 0.0197 - val_acc: 0.8871\n",
      "Epoch 55/100\n",
      "10597/10597 [==============================] - 0s 46us/step - loss: 0.0081 - acc: 0.9505 - val_loss: 0.0190 - val_acc: 0.8905\n",
      "Epoch 56/100\n",
      "10597/10597 [==============================] - 1s 48us/step - loss: 0.0077 - acc: 0.9548 - val_loss: 0.0186 - val_acc: 0.8947\n",
      "Epoch 57/100\n",
      "10597/10597 [==============================] - 0s 47us/step - loss: 0.0081 - acc: 0.9520 - val_loss: 0.0215 - val_acc: 0.8837\n",
      "Epoch 58/100\n",
      "10597/10597 [==============================] - 1s 47us/step - loss: 0.0080 - acc: 0.9523 - val_loss: 0.0181 - val_acc: 0.8973\n",
      "Epoch 59/100\n",
      "10597/10597 [==============================] - 1s 48us/step - loss: 0.0077 - acc: 0.9533 - val_loss: 0.0180 - val_acc: 0.8973\n",
      "Epoch 60/100\n",
      "10597/10597 [==============================] - 1s 51us/step - loss: 0.0076 - acc: 0.9543 - val_loss: 0.0186 - val_acc: 0.8947\n",
      "Epoch 61/100\n",
      "10597/10597 [==============================] - 1s 51us/step - loss: 0.0079 - acc: 0.9530 - val_loss: 0.0183 - val_acc: 0.8973\n",
      "Epoch 62/100\n",
      "10597/10597 [==============================] - 0s 45us/step - loss: 0.0074 - acc: 0.9557 - val_loss: 0.0193 - val_acc: 0.8922\n",
      "Epoch 63/100\n",
      "10597/10597 [==============================] - 1s 48us/step - loss: 0.0076 - acc: 0.9545 - val_loss: 0.0195 - val_acc: 0.8913\n",
      "Epoch 64/100\n",
      "10597/10597 [==============================] - 1s 51us/step - loss: 0.0075 - acc: 0.9556 - val_loss: 0.0185 - val_acc: 0.8939\n",
      "Epoch 65/100\n",
      "10597/10597 [==============================] - 1s 49us/step - loss: 0.0075 - acc: 0.9552 - val_loss: 0.0213 - val_acc: 0.8829\n",
      "Epoch 66/100\n",
      "10597/10597 [==============================] - 1s 49us/step - loss: 0.0077 - acc: 0.9538 - val_loss: 0.0204 - val_acc: 0.8871\n",
      "Epoch 67/100\n",
      "10597/10597 [==============================] - 1s 51us/step - loss: 0.0073 - acc: 0.9569 - val_loss: 0.0172 - val_acc: 0.9024\n",
      "Epoch 68/100\n",
      "10597/10597 [==============================] - 1s 52us/step - loss: 0.0075 - acc: 0.9554 - val_loss: 0.0185 - val_acc: 0.8947\n",
      "Epoch 69/100\n",
      "10597/10597 [==============================] - 1s 50us/step - loss: 0.0075 - acc: 0.9556 - val_loss: 0.0200 - val_acc: 0.8896\n",
      "Epoch 70/100\n",
      "10597/10597 [==============================] - 1s 51us/step - loss: 0.0075 - acc: 0.9556 - val_loss: 0.0191 - val_acc: 0.8939\n",
      "Epoch 71/100\n",
      "10597/10597 [==============================] - 1s 48us/step - loss: 0.0070 - acc: 0.9588 - val_loss: 0.0204 - val_acc: 0.8888\n",
      "Epoch 72/100\n",
      "10597/10597 [==============================] - 1s 50us/step - loss: 0.0073 - acc: 0.9565 - val_loss: 0.0190 - val_acc: 0.8964\n",
      "Epoch 73/100\n",
      "10597/10597 [==============================] - 1s 55us/step - loss: 0.0075 - acc: 0.9564 - val_loss: 0.0184 - val_acc: 0.8956\n",
      "Epoch 74/100\n",
      "10597/10597 [==============================] - 1s 49us/step - loss: 0.0070 - acc: 0.9589 - val_loss: 0.0184 - val_acc: 0.8964\n",
      "Epoch 75/100\n",
      "10597/10597 [==============================] - 1s 48us/step - loss: 0.0066 - acc: 0.9605 - val_loss: 0.0187 - val_acc: 0.8981\n",
      "Epoch 76/100\n",
      "10597/10597 [==============================] - 1s 48us/step - loss: 0.0075 - acc: 0.9569 - val_loss: 0.0186 - val_acc: 0.8939\n",
      "Epoch 77/100\n",
      "10597/10597 [==============================] - 1s 54us/step - loss: 0.0069 - acc: 0.9597 - val_loss: 0.0184 - val_acc: 0.8956\n",
      "Epoch 78/100\n",
      "10597/10597 [==============================] - 1s 50us/step - loss: 0.0068 - acc: 0.9589 - val_loss: 0.0179 - val_acc: 0.9015\n",
      "Epoch 79/100\n",
      "10597/10597 [==============================] - 1s 50us/step - loss: 0.0067 - acc: 0.9604 - val_loss: 0.0177 - val_acc: 0.9015\n",
      "Epoch 80/100\n",
      "10597/10597 [==============================] - 0s 47us/step - loss: 0.0070 - acc: 0.9593 - val_loss: 0.0177 - val_acc: 0.9015\n",
      "Epoch 81/100\n",
      "10597/10597 [==============================] - 1s 49us/step - loss: 0.0068 - acc: 0.9609 - val_loss: 0.0207 - val_acc: 0.8854\n",
      "Epoch 82/100\n",
      "10597/10597 [==============================] - 1s 48us/step - loss: 0.0069 - acc: 0.9599 - val_loss: 0.0191 - val_acc: 0.8947\n",
      "Epoch 83/100\n",
      "10597/10597 [==============================] - 1s 49us/step - loss: 0.0063 - acc: 0.9632 - val_loss: 0.0180 - val_acc: 0.8990\n",
      "Epoch 84/100\n",
      "10597/10597 [==============================] - 1s 50us/step - loss: 0.0069 - acc: 0.9596 - val_loss: 0.0184 - val_acc: 0.8973\n",
      "Epoch 85/100\n",
      "10597/10597 [==============================] - 0s 46us/step - loss: 0.0063 - acc: 0.9632 - val_loss: 0.0179 - val_acc: 0.8998\n",
      "Epoch 86/100\n",
      "10597/10597 [==============================] - 1s 49us/step - loss: 0.0069 - acc: 0.9598 - val_loss: 0.0185 - val_acc: 0.8981\n",
      "Epoch 87/100\n",
      "10597/10597 [==============================] - 1s 51us/step - loss: 0.0068 - acc: 0.9604 - val_loss: 0.0182 - val_acc: 0.8990\n",
      "Epoch 88/100\n",
      "10597/10597 [==============================] - 1s 48us/step - loss: 0.0066 - acc: 0.9609 - val_loss: 0.0186 - val_acc: 0.8981\n",
      "Epoch 89/100\n",
      "10597/10597 [==============================] - 1s 52us/step - loss: 0.0061 - acc: 0.9656 - val_loss: 0.0189 - val_acc: 0.8939\n",
      "Epoch 90/100\n",
      "10597/10597 [==============================] - 1s 50us/step - loss: 0.0063 - acc: 0.9636 - val_loss: 0.0172 - val_acc: 0.9066\n",
      "Epoch 91/100\n",
      "10597/10597 [==============================] - 1s 52us/step - loss: 0.0064 - acc: 0.9627 - val_loss: 0.0182 - val_acc: 0.8981\n",
      "Epoch 92/100\n",
      "10597/10597 [==============================] - 1s 52us/step - loss: 0.0062 - acc: 0.9633 - val_loss: 0.0187 - val_acc: 0.8964\n",
      "Epoch 93/100\n",
      "10597/10597 [==============================] - 1s 52us/step - loss: 0.0063 - acc: 0.9635 - val_loss: 0.0185 - val_acc: 0.8998\n",
      "Epoch 94/100\n",
      "10597/10597 [==============================] - 1s 54us/step - loss: 0.0063 - acc: 0.9635 - val_loss: 0.0201 - val_acc: 0.8879\n",
      "Epoch 95/100\n",
      "10597/10597 [==============================] - 1s 52us/step - loss: 0.0066 - acc: 0.9621 - val_loss: 0.0189 - val_acc: 0.8981\n",
      "Epoch 96/100\n",
      "10597/10597 [==============================] - 1s 52us/step - loss: 0.0065 - acc: 0.9614 - val_loss: 0.0188 - val_acc: 0.8964\n",
      "Epoch 97/100\n",
      "10597/10597 [==============================] - 1s 49us/step - loss: 0.0061 - acc: 0.9647 - val_loss: 0.0180 - val_acc: 0.9041\n",
      "Epoch 98/100\n",
      "10597/10597 [==============================] - 1s 51us/step - loss: 0.0063 - acc: 0.9631 - val_loss: 0.0175 - val_acc: 0.9007\n",
      "Epoch 99/100\n",
      "10597/10597 [==============================] - 1s 51us/step - loss: 0.0065 - acc: 0.9631 - val_loss: 0.0195 - val_acc: 0.8930\n",
      "Epoch 100/100\n",
      "10597/10597 [==============================] - 1s 50us/step - loss: 0.0061 - acc: 0.9648 - val_loss: 0.0173 - val_acc: 0.9066\n",
      "3926/3926 [==============================] - 0s 12us/step\n"
     ]
    }
   ],
   "source": [
    "new_model = Sequential()\n",
    "new_model.add(Dense(1024, activation='relu', input_dim=1024))\n",
    "new_model.add(Dropout(0.5))\n",
    "new_model.add(Dense(512, activation='relu'))\n",
    "new_model.add(Dropout(0.5))\n",
    "new_model.add(Dense(512, activation='relu'))\n",
    "new_model.add(Dropout(0.25))\n",
    "new_model.add(Dense(256, activation='relu'))\n",
    "new_model.add(Dropout(0.25))\n",
    "new_model.add(Dense(256, activation='relu'))\n",
    "new_model.add(Dropout(0.25))\n",
    "new_model.add(Dense(128, activation='relu'))\n",
    "new_model.add(Dropout(0.5))\n",
    "new_model.add(Dense(56, activation='tanh'))\n",
    "new_model.add(Dropout(0.25))\n",
    "new_model.add(Dense(10, activation='softmax'))\n",
    "\n",
    "new_model.compile(loss='mse',\n",
    "              optimizer=RMSprop,\n",
    "              metrics=['accuracy'])\n",
    "new_history = new_model.fit(X_train, y_binary_train,\n",
    "          epochs=100,\n",
    "          batch_size=128, validation_split=.1)\n",
    "score = new_model.evaluate(X_test, y_binary_test, batch_size=128)"
   ]
  },
  {
   "cell_type": "code",
   "execution_count": 24,
   "metadata": {},
   "outputs": [
    {
     "data": {
      "text/plain": [
       "[0.2715913781019493, 0.9447106525680916]"
      ]
     },
     "execution_count": 24,
     "metadata": {},
     "output_type": "execute_result"
    }
   ],
   "source": [
    "score"
   ]
  },
  {
   "cell_type": "code",
   "execution_count": 17,
   "metadata": {},
   "outputs": [
    {
     "data": {
      "image/png": "[encoded data removed]",
      "text/plain": [
       "<matplotlib.figure.Figure at 0x7fb30feb40f0>"
      ]
     },
     "metadata": {},
     "output_type": "display_data"
    }
   ],
   "source": [
    "plt.plot(new_history.history['acc'])\n",
    "plt.plot(new_history.history['val_acc'])\n",
    "plt.title('model accuracy')\n",
    "plt.ylabel('accuracy')\n",
    "plt.xlabel('epoch')\n",
    "plt.legend(['train', 'validation'], loc='upper left')\n",
    "plt.show()"
   ]
  },
  {
   "cell_type": "markdown",
   "metadata": {},
   "source": [
    "## I'm satisfied with that. Now let's try the dataset that WAS generated with chunking."
   ]
  },
  {
   "cell_type": "code",
   "execution_count": 2,
   "metadata": {},
   "outputs": [],
   "source": [
    "pentamer_fixed_labels = np.load('pentamer_fixed_labels.npy')\n",
    "pentamer_fixed = np.load('pentamer_fixed_data.npy')"
   ]
  },
  {
   "cell_type": "code",
   "execution_count": 20,
   "metadata": {},
   "outputs": [],
   "source": [
    "X_train, X_test, y_train, y_test = train_test_split(pentamer_fixed, pentamer_fixed_labels, \\\n",
    "                                                    test_size = 0.25, random_state=420)\n",
    "y_binary_train = to_categorical(y_train)\n",
    "y_binary_test = to_categorical(y_test)"
   ]
  },
  {
   "cell_type": "markdown",
   "metadata": {},
   "source": [
    "## Now let's try it with those exact same models!"
   ]
  },
  {
   "cell_type": "code",
   "execution_count": 21,
   "metadata": {},
   "outputs": [
    {
     "name": "stdout",
     "output_type": "stream",
     "text": [
      "Train on 7325 samples, validate on 814 samples\n",
      "Epoch 1/100\n",
      "7325/7325 [==============================] - 1s 129us/step - loss: 1.9865 - acc: 0.2366 - val_loss: 1.7162 - val_acc: 0.3563\n",
      "Epoch 2/100\n",
      "7325/7325 [==============================] - 0s 54us/step - loss: 1.5144 - acc: 0.4392 - val_loss: 1.2296 - val_acc: 0.5934\n",
      "Epoch 3/100\n",
      "7325/7325 [==============================] - 0s 54us/step - loss: 1.1869 - acc: 0.5762 - val_loss: 1.1397 - val_acc: 0.5614\n",
      "Epoch 4/100\n",
      "7325/7325 [==============================] - 0s 53us/step - loss: 1.0838 - acc: 0.5990 - val_loss: 0.9487 - val_acc: 0.6474\n",
      "Epoch 5/100\n",
      "7325/7325 [==============================] - 0s 56us/step - loss: 0.9822 - acc: 0.6414 - val_loss: 0.9067 - val_acc: 0.6548\n",
      "Epoch 6/100\n",
      "7325/7325 [==============================] - 0s 52us/step - loss: 0.9184 - acc: 0.6562 - val_loss: 0.9604 - val_acc: 0.6327\n",
      "Epoch 7/100\n",
      "7325/7325 [==============================] - 0s 55us/step - loss: 0.8726 - acc: 0.6638 - val_loss: 0.9494 - val_acc: 0.6450\n",
      "Epoch 8/100\n",
      "7325/7325 [==============================] - 0s 59us/step - loss: 0.8452 - acc: 0.6792 - val_loss: 0.7892 - val_acc: 0.6916\n",
      "Epoch 9/100\n",
      "7325/7325 [==============================] - 0s 54us/step - loss: 0.8030 - acc: 0.6831 - val_loss: 0.8073 - val_acc: 0.6892\n",
      "Epoch 10/100\n",
      "7325/7325 [==============================] - 0s 58us/step - loss: 0.7763 - acc: 0.6986 - val_loss: 0.8931 - val_acc: 0.6695\n",
      "Epoch 11/100\n",
      "7325/7325 [==============================] - 0s 60us/step - loss: 0.7441 - acc: 0.7193 - val_loss: 0.7370 - val_acc: 0.7260\n",
      "Epoch 12/100\n",
      "7325/7325 [==============================] - 0s 55us/step - loss: 0.7284 - acc: 0.7283 - val_loss: 0.6872 - val_acc: 0.7445\n",
      "Epoch 13/100\n",
      "7325/7325 [==============================] - 0s 53us/step - loss: 0.7029 - acc: 0.7421 - val_loss: 0.6772 - val_acc: 0.7359\n",
      "Epoch 14/100\n",
      "7325/7325 [==============================] - 0s 51us/step - loss: 0.6773 - acc: 0.7502 - val_loss: 0.8253 - val_acc: 0.6425\n",
      "Epoch 15/100\n",
      "7325/7325 [==============================] - 0s 53us/step - loss: 0.6540 - acc: 0.7582 - val_loss: 0.6772 - val_acc: 0.7801\n",
      "Epoch 16/100\n",
      "7325/7325 [==============================] - 0s 60us/step - loss: 0.6238 - acc: 0.7794 - val_loss: 0.5845 - val_acc: 0.8157\n",
      "Epoch 17/100\n",
      "7325/7325 [==============================] - 0s 53us/step - loss: 0.6008 - acc: 0.7948 - val_loss: 0.5791 - val_acc: 0.8022\n",
      "Epoch 18/100\n",
      "7325/7325 [==============================] - 0s 54us/step - loss: 0.5700 - acc: 0.7982 - val_loss: 0.6477 - val_acc: 0.7912\n",
      "Epoch 19/100\n",
      "7325/7325 [==============================] - 0s 60us/step - loss: 0.5513 - acc: 0.8104 - val_loss: 0.6284 - val_acc: 0.8047\n",
      "Epoch 20/100\n",
      "7325/7325 [==============================] - 0s 58us/step - loss: 0.5320 - acc: 0.8179 - val_loss: 0.5101 - val_acc: 0.8329\n",
      "Epoch 21/100\n",
      "7325/7325 [==============================] - 0s 54us/step - loss: 0.5171 - acc: 0.8156 - val_loss: 0.4853 - val_acc: 0.8256\n",
      "Epoch 22/100\n",
      "7325/7325 [==============================] - 0s 52us/step - loss: 0.5200 - acc: 0.8254 - val_loss: 0.4945 - val_acc: 0.8550\n",
      "Epoch 23/100\n",
      "7325/7325 [==============================] - 0s 58us/step - loss: 0.4989 - acc: 0.8325 - val_loss: 0.4825 - val_acc: 0.8686\n",
      "Epoch 24/100\n",
      "7325/7325 [==============================] - 0s 54us/step - loss: 0.4834 - acc: 0.8396 - val_loss: 0.5569 - val_acc: 0.8133\n",
      "Epoch 25/100\n",
      "7325/7325 [==============================] - 0s 59us/step - loss: 0.4800 - acc: 0.8448 - val_loss: 0.4783 - val_acc: 0.8587\n",
      "Epoch 26/100\n",
      "7325/7325 [==============================] - 0s 54us/step - loss: 0.4625 - acc: 0.8517 - val_loss: 0.4916 - val_acc: 0.8636\n",
      "Epoch 27/100\n",
      "7325/7325 [==============================] - 0s 54us/step - loss: 0.4676 - acc: 0.8504 - val_loss: 0.4790 - val_acc: 0.8624\n",
      "Epoch 28/100\n",
      "7325/7325 [==============================] - 0s 54us/step - loss: 0.4436 - acc: 0.8587 - val_loss: 0.4673 - val_acc: 0.8452\n",
      "Epoch 29/100\n",
      "7325/7325 [==============================] - 0s 55us/step - loss: 0.4404 - acc: 0.8557 - val_loss: 0.4768 - val_acc: 0.8428\n",
      "Epoch 30/100\n",
      "7325/7325 [==============================] - 0s 56us/step - loss: 0.4349 - acc: 0.8580 - val_loss: 0.4290 - val_acc: 0.8759\n",
      "Epoch 31/100\n",
      "7325/7325 [==============================] - 0s 59us/step - loss: 0.4165 - acc: 0.8628 - val_loss: 0.4184 - val_acc: 0.8587\n",
      "Epoch 32/100\n",
      "7325/7325 [==============================] - 0s 54us/step - loss: 0.4363 - acc: 0.8553 - val_loss: 0.4167 - val_acc: 0.8833\n",
      "Epoch 33/100\n",
      "7325/7325 [==============================] - 0s 54us/step - loss: 0.4170 - acc: 0.8704 - val_loss: 0.3998 - val_acc: 0.8796\n",
      "Epoch 34/100\n",
      "7325/7325 [==============================] - 0s 55us/step - loss: 0.4064 - acc: 0.8801 - val_loss: 0.3891 - val_acc: 0.8931\n",
      "Epoch 35/100\n",
      "7325/7325 [==============================] - 0s 55us/step - loss: 0.3806 - acc: 0.8997 - val_loss: 0.3882 - val_acc: 0.9177\n",
      "Epoch 36/100\n",
      "7325/7325 [==============================] - 0s 55us/step - loss: 0.3724 - acc: 0.9126 - val_loss: 0.3581 - val_acc: 0.9287\n",
      "Epoch 37/100\n",
      "7325/7325 [==============================] - 0s 51us/step - loss: 0.3513 - acc: 0.9240 - val_loss: 0.3480 - val_acc: 0.9287\n",
      "Epoch 38/100\n",
      "7325/7325 [==============================] - 0s 59us/step - loss: 0.3386 - acc: 0.9259 - val_loss: 0.3357 - val_acc: 0.9312\n",
      "Epoch 39/100\n",
      "7325/7325 [==============================] - 0s 57us/step - loss: 0.3237 - acc: 0.9322 - val_loss: 0.3944 - val_acc: 0.9165\n",
      "Epoch 40/100\n",
      "7325/7325 [==============================] - 0s 58us/step - loss: 0.3243 - acc: 0.9328 - val_loss: 0.3538 - val_acc: 0.9201\n",
      "Epoch 41/100\n",
      "7325/7325 [==============================] - 0s 57us/step - loss: 0.3088 - acc: 0.9342 - val_loss: 0.3201 - val_acc: 0.9349\n",
      "Epoch 42/100\n",
      "7325/7325 [==============================] - 0s 57us/step - loss: 0.3053 - acc: 0.9371 - val_loss: 0.3862 - val_acc: 0.9214\n",
      "Epoch 43/100\n",
      "7325/7325 [==============================] - 0s 58us/step - loss: 0.3030 - acc: 0.9364 - val_loss: 0.2989 - val_acc: 0.9435\n",
      "Epoch 44/100\n",
      "7325/7325 [==============================] - 0s 55us/step - loss: 0.2926 - acc: 0.9383 - val_loss: 0.3106 - val_acc: 0.9373\n",
      "Epoch 45/100\n",
      "7325/7325 [==============================] - 0s 58us/step - loss: 0.2818 - acc: 0.9418 - val_loss: 0.3114 - val_acc: 0.9373\n",
      "Epoch 46/100\n",
      "7325/7325 [==============================] - 0s 55us/step - loss: 0.2901 - acc: 0.9401 - val_loss: 0.2903 - val_acc: 0.9423\n",
      "Epoch 47/100\n",
      "7325/7325 [==============================] - 0s 57us/step - loss: 0.2747 - acc: 0.9424 - val_loss: 0.3024 - val_acc: 0.9386\n",
      "Epoch 48/100\n",
      "7325/7325 [==============================] - 0s 53us/step - loss: 0.2767 - acc: 0.9427 - val_loss: 0.3127 - val_acc: 0.9361\n",
      "Epoch 49/100\n",
      "7325/7325 [==============================] - 0s 53us/step - loss: 0.2726 - acc: 0.9444 - val_loss: 0.3301 - val_acc: 0.9312\n",
      "Epoch 50/100\n",
      "7325/7325 [==============================] - 0s 54us/step - loss: 0.2740 - acc: 0.9417 - val_loss: 0.3138 - val_acc: 0.9373\n",
      "Epoch 51/100\n",
      "7325/7325 [==============================] - 0s 52us/step - loss: 0.2640 - acc: 0.9454 - val_loss: 0.3033 - val_acc: 0.9410\n",
      "Epoch 52/100\n",
      "7325/7325 [==============================] - 0s 54us/step - loss: 0.2728 - acc: 0.9421 - val_loss: 0.3473 - val_acc: 0.9287\n",
      "Epoch 53/100\n",
      "7325/7325 [==============================] - 0s 56us/step - loss: 0.2675 - acc: 0.9451 - val_loss: 0.3255 - val_acc: 0.9324\n",
      "Epoch 54/100\n",
      "7325/7325 [==============================] - 0s 54us/step - loss: 0.2596 - acc: 0.9458 - val_loss: 0.3551 - val_acc: 0.9238\n",
      "Epoch 55/100\n",
      "7325/7325 [==============================] - 0s 54us/step - loss: 0.2619 - acc: 0.9448 - val_loss: 0.2919 - val_acc: 0.9410\n",
      "Epoch 56/100\n",
      "7325/7325 [==============================] - 0s 56us/step - loss: 0.2492 - acc: 0.9484 - val_loss: 0.2799 - val_acc: 0.9423\n",
      "Epoch 57/100\n",
      "7325/7325 [==============================] - 0s 55us/step - loss: 0.2634 - acc: 0.9454 - val_loss: 0.3108 - val_acc: 0.9361\n",
      "Epoch 58/100\n",
      "7325/7325 [==============================] - 0s 54us/step - loss: 0.2587 - acc: 0.9474 - val_loss: 0.2930 - val_acc: 0.9410\n",
      "Epoch 59/100\n",
      "7325/7325 [==============================] - 0s 53us/step - loss: 0.2526 - acc: 0.9472 - val_loss: 0.2814 - val_acc: 0.9423\n",
      "Epoch 60/100\n",
      "7325/7325 [==============================] - 0s 56us/step - loss: 0.2589 - acc: 0.9470 - val_loss: 0.2877 - val_acc: 0.9410\n",
      "Epoch 61/100\n",
      "7325/7325 [==============================] - 0s 56us/step - loss: 0.2522 - acc: 0.9480 - val_loss: 0.2820 - val_acc: 0.9435\n",
      "Epoch 62/100\n",
      "7325/7325 [==============================] - 0s 52us/step - loss: 0.2466 - acc: 0.9491 - val_loss: 0.3023 - val_acc: 0.9386\n",
      "Epoch 63/100\n",
      "7325/7325 [==============================] - 0s 57us/step - loss: 0.2532 - acc: 0.9474 - val_loss: 0.2973 - val_acc: 0.9386\n",
      "Epoch 64/100\n",
      "7325/7325 [==============================] - 0s 52us/step - loss: 0.2514 - acc: 0.9487 - val_loss: 0.3037 - val_acc: 0.9386\n",
      "Epoch 65/100\n",
      "7325/7325 [==============================] - 0s 57us/step - loss: 0.2432 - acc: 0.9500 - val_loss: 0.3081 - val_acc: 0.9361\n",
      "Epoch 66/100\n",
      "7325/7325 [==============================] - 0s 54us/step - loss: 0.2508 - acc: 0.9477 - val_loss: 0.2911 - val_acc: 0.9398\n",
      "Epoch 67/100\n",
      "7325/7325 [==============================] - 0s 56us/step - loss: 0.2471 - acc: 0.9489 - val_loss: 0.2812 - val_acc: 0.9435\n",
      "Epoch 68/100\n",
      "7325/7325 [==============================] - 0s 55us/step - loss: 0.2445 - acc: 0.9491 - val_loss: 0.3019 - val_acc: 0.9386\n",
      "Epoch 69/100\n",
      "7325/7325 [==============================] - 0s 54us/step - loss: 0.2428 - acc: 0.9481 - val_loss: 0.2968 - val_acc: 0.9361\n",
      "Epoch 70/100\n",
      "7325/7325 [==============================] - 0s 54us/step - loss: 0.2352 - acc: 0.9517 - val_loss: 0.2995 - val_acc: 0.9398\n",
      "Epoch 71/100\n",
      "7325/7325 [==============================] - 0s 57us/step - loss: 0.2359 - acc: 0.9511 - val_loss: 0.3306 - val_acc: 0.9361\n",
      "Epoch 72/100\n",
      "7325/7325 [==============================] - 0s 51us/step - loss: 0.2363 - acc: 0.9521 - val_loss: 0.3065 - val_acc: 0.9386\n",
      "Epoch 73/100\n",
      "7325/7325 [==============================] - 0s 57us/step - loss: 0.2352 - acc: 0.9517 - val_loss: 0.2609 - val_acc: 0.9484\n",
      "Epoch 74/100\n",
      "7325/7325 [==============================] - 0s 54us/step - loss: 0.2337 - acc: 0.9534 - val_loss: 0.2825 - val_acc: 0.9435\n",
      "Epoch 75/100\n",
      "7325/7325 [==============================] - 0s 55us/step - loss: 0.2408 - acc: 0.9510 - val_loss: 0.3178 - val_acc: 0.9349\n",
      "Epoch 76/100\n",
      "7325/7325 [==============================] - 0s 54us/step - loss: 0.2361 - acc: 0.9514 - val_loss: 0.2821 - val_acc: 0.9447\n",
      "Epoch 77/100\n",
      "7325/7325 [==============================] - 0s 55us/step - loss: 0.2393 - acc: 0.9525 - val_loss: 0.3413 - val_acc: 0.9287\n",
      "Epoch 78/100\n",
      "7325/7325 [==============================] - 0s 59us/step - loss: 0.2392 - acc: 0.9506 - val_loss: 0.4138 - val_acc: 0.9140\n",
      "Epoch 79/100\n",
      "7325/7325 [==============================] - 0s 54us/step - loss: 0.2403 - acc: 0.9496 - val_loss: 0.2857 - val_acc: 0.9423\n",
      "Epoch 80/100\n",
      "7325/7325 [==============================] - 0s 57us/step - loss: 0.2344 - acc: 0.9524 - val_loss: 0.2763 - val_acc: 0.9447\n",
      "Epoch 81/100\n",
      "7325/7325 [==============================] - 0s 52us/step - loss: 0.2335 - acc: 0.9529 - val_loss: 0.2847 - val_acc: 0.9435\n",
      "Epoch 82/100\n",
      "7325/7325 [==============================] - 0s 55us/step - loss: 0.2316 - acc: 0.9522 - val_loss: 0.2742 - val_acc: 0.9435\n",
      "Epoch 83/100\n",
      "7325/7325 [==============================] - 0s 56us/step - loss: 0.2330 - acc: 0.9518 - val_loss: 0.3531 - val_acc: 0.9263\n",
      "Epoch 84/100\n",
      "7325/7325 [==============================] - 0s 55us/step - loss: 0.2271 - acc: 0.9549 - val_loss: 0.3034 - val_acc: 0.9386\n",
      "Epoch 85/100\n",
      "7325/7325 [==============================] - 0s 58us/step - loss: 0.2292 - acc: 0.9536 - val_loss: 0.2820 - val_acc: 0.9435\n",
      "Epoch 86/100\n",
      "7325/7325 [==============================] - 0s 54us/step - loss: 0.2244 - acc: 0.9547 - val_loss: 0.3227 - val_acc: 0.9300\n",
      "Epoch 87/100\n",
      "7325/7325 [==============================] - 0s 56us/step - loss: 0.2236 - acc: 0.9543 - val_loss: 0.3379 - val_acc: 0.9324\n",
      "Epoch 88/100\n",
      "7325/7325 [==============================] - 0s 56us/step - loss: 0.2284 - acc: 0.9547 - val_loss: 0.2822 - val_acc: 0.9423\n",
      "Epoch 89/100\n",
      "7325/7325 [==============================] - 0s 52us/step - loss: 0.2237 - acc: 0.9554 - val_loss: 0.2912 - val_acc: 0.9398\n",
      "Epoch 90/100\n",
      "7325/7325 [==============================] - 0s 57us/step - loss: 0.2184 - acc: 0.9554 - val_loss: 0.3320 - val_acc: 0.9349\n",
      "Epoch 91/100\n",
      "7325/7325 [==============================] - 0s 52us/step - loss: 0.2295 - acc: 0.9530 - val_loss: 0.2884 - val_acc: 0.9435\n",
      "Epoch 92/100\n",
      "7325/7325 [==============================] - 0s 56us/step - loss: 0.2365 - acc: 0.9532 - val_loss: 0.3230 - val_acc: 0.9361\n",
      "Epoch 93/100\n",
      "7325/7325 [==============================] - 0s 53us/step - loss: 0.2283 - acc: 0.9539 - val_loss: 0.3278 - val_acc: 0.9287\n",
      "Epoch 94/100\n",
      "7325/7325 [==============================] - 0s 55us/step - loss: 0.2237 - acc: 0.9545 - val_loss: 0.3283 - val_acc: 0.9361\n",
      "Epoch 95/100\n",
      "7325/7325 [==============================] - 0s 57us/step - loss: 0.2303 - acc: 0.9532 - val_loss: 0.2975 - val_acc: 0.9398\n",
      "Epoch 96/100\n",
      "7325/7325 [==============================] - 0s 53us/step - loss: 0.2264 - acc: 0.9544 - val_loss: 0.2923 - val_acc: 0.9423\n",
      "Epoch 97/100\n",
      "7325/7325 [==============================] - 0s 57us/step - loss: 0.2241 - acc: 0.9539 - val_loss: 0.3152 - val_acc: 0.9386\n",
      "Epoch 98/100\n",
      "7325/7325 [==============================] - 0s 58us/step - loss: 0.2166 - acc: 0.9571 - val_loss: 0.3294 - val_acc: 0.9349\n",
      "Epoch 99/100\n",
      "7325/7325 [==============================] - 0s 53us/step - loss: 0.2380 - acc: 0.9517 - val_loss: 0.2957 - val_acc: 0.9423\n",
      "Epoch 100/100\n",
      "7325/7325 [==============================] - 0s 53us/step - loss: 0.2227 - acc: 0.9554 - val_loss: 0.2798 - val_acc: 0.9447\n",
      "2713/2713 [==============================] - 0s 13us/step\n"
     ]
    }
   ],
   "source": [
    "model = Sequential()\n",
    "# Dense(64) is a fully-connected layer with 64 hidden units.\n",
    "# in the first layer, you must specify the expected input data shape:\n",
    "# here, 20-dimensional vectors.\n",
    "model.add(Dense(1024, activation='relu', input_dim=1024))\n",
    "model.add(Dropout(0.5))\n",
    "model.add(Dense(512, activation='relu'))\n",
    "model.add(Dropout(0.5))\n",
    "model.add(Dense(512, activation='relu'))\n",
    "model.add(Dropout(0.25))\n",
    "model.add(Dense(256, activation='relu'))\n",
    "model.add(Dropout(0.25))\n",
    "model.add(Dense(256, activation='relu'))\n",
    "model.add(Dropout(0.25))\n",
    "model.add(Dense(128, activation='relu'))\n",
    "model.add(Dropout(0.5))\n",
    "model.add(Dense(56, activation='relu'))\n",
    "model.add(Dropout(0.25))\n",
    "model.add(Dense(10, activation='tanh'))\n",
    "model.add(Dense(10, activation='softmax'))\n",
    "\n",
    "model.compile(loss='categorical_crossentropy',\n",
    "              optimizer=RMSprop,\n",
    "              metrics=['accuracy'])\n",
    "history = model.fit(X_train, y_binary_train,\n",
    "          epochs=100,\n",
    "          batch_size=128, validation_split=.1)\n",
    "score = model.evaluate(X_test, y_binary_test, batch_size=128)"
   ]
  },
  {
   "cell_type": "code",
   "execution_count": 23,
   "metadata": {},
   "outputs": [
    {
     "data": {
      "text/plain": [
       "[0.2715913781019493, 0.9447106525680916]"
      ]
     },
     "execution_count": 23,
     "metadata": {},
     "output_type": "execute_result"
    }
   ],
   "source": [
    "score"
   ]
  },
  {
   "cell_type": "markdown",
   "metadata": {},
   "source": [
    "### Dope."
   ]
  },
  {
   "cell_type": "markdown",
   "metadata": {},
   "source": [
    "## Wow. Why is there such a gap between the train/test curves in the non-chunked data, but here the test loss tracks almost perfectly with the train loss?\n",
    "\n",
    "## Feel like I should know that. But I totally don't."
   ]
  },
  {
   "cell_type": "code",
   "execution_count": 22,
   "metadata": {},
   "outputs": [
    {
     "data": {
      "image/png": "[encoded data removed]",
      "text/plain": [
       "<matplotlib.figure.Figure at 0x7fb0e94ee518>"
      ]
     },
     "metadata": {},
     "output_type": "display_data"
    }
   ],
   "source": [
    "plt.plot(history.history['acc'])\n",
    "plt.plot(history.history['val_acc'])\n",
    "plt.title('model accuracy')\n",
    "plt.ylabel('accuracy')\n",
    "plt.xlabel('epoch')\n",
    "plt.legend(['train', 'test'], loc='upper left')\n",
    "plt.show()"
   ]
  },
  {
   "cell_type": "code",
   "execution_count": 55,
   "metadata": {},
   "outputs": [
    {
     "ename": "ValueError",
     "evalue": "Error when checking input: expected dense_75_input to have shape (1024,) but got array with shape (4096,)",
     "output_type": "error",
     "traceback": [
      "\u001b[0;31m---------------------------------------------------------------------------\u001b[0m",
      "\u001b[0;31mValueError\u001b[0m                                Traceback (most recent call last)",
      "\u001b[0;32m<ipython-input-55-c2081948a0be>\u001b[0m in \u001b[0;36m<module>\u001b[0;34m()\u001b[0m\n\u001b[1;32m     24\u001b[0m new_history = new_model.fit(X_train, y_binary_train,\n\u001b[1;32m     25\u001b[0m           \u001b[0mepochs\u001b[0m\u001b[0;34m=\u001b[0m\u001b[0;36m100\u001b[0m\u001b[0;34m,\u001b[0m\u001b[0;34m\u001b[0m\u001b[0m\n\u001b[0;32m---> 26\u001b[0;31m           batch_size=128, validation_split=.1)\n\u001b[0m\u001b[1;32m     27\u001b[0m \u001b[0mscore\u001b[0m \u001b[0;34m=\u001b[0m \u001b[0mnew_model\u001b[0m\u001b[0;34m.\u001b[0m\u001b[0mevaluate\u001b[0m\u001b[0;34m(\u001b[0m\u001b[0mX_test\u001b[0m\u001b[0;34m,\u001b[0m \u001b[0my_binary_test\u001b[0m\u001b[0;34m,\u001b[0m \u001b[0mbatch_size\u001b[0m\u001b[0;34m=\u001b[0m\u001b[0;36m128\u001b[0m\u001b[0;34m)\u001b[0m\u001b[0;34m\u001b[0m\u001b[0m\n",
      "\u001b[0;32m~/anaconda3/lib/python3.6/site-packages/keras/models.py\u001b[0m in \u001b[0;36mfit\u001b[0;34m(self, x, y, batch_size, epochs, verbose, callbacks, validation_split, validation_data, shuffle, class_weight, sample_weight, initial_epoch, steps_per_epoch, validation_steps, **kwargs)\u001b[0m\n\u001b[1;32m    961\u001b[0m                               \u001b[0minitial_epoch\u001b[0m\u001b[0;34m=\u001b[0m\u001b[0minitial_epoch\u001b[0m\u001b[0;34m,\u001b[0m\u001b[0;34m\u001b[0m\u001b[0m\n\u001b[1;32m    962\u001b[0m                               \u001b[0msteps_per_epoch\u001b[0m\u001b[0;34m=\u001b[0m\u001b[0msteps_per_epoch\u001b[0m\u001b[0;34m,\u001b[0m\u001b[0;34m\u001b[0m\u001b[0m\n\u001b[0;32m--> 963\u001b[0;31m                               validation_steps=validation_steps)\n\u001b[0m\u001b[1;32m    964\u001b[0m \u001b[0;34m\u001b[0m\u001b[0m\n\u001b[1;32m    965\u001b[0m     def evaluate(self, x=None, y=None,\n",
      "\u001b[0;32m~/anaconda3/lib/python3.6/site-packages/keras/engine/training.py\u001b[0m in \u001b[0;36mfit\u001b[0;34m(self, x, y, batch_size, epochs, verbose, callbacks, validation_split, validation_data, shuffle, class_weight, sample_weight, initial_epoch, steps_per_epoch, validation_steps, **kwargs)\u001b[0m\n\u001b[1;32m   1628\u001b[0m             \u001b[0msample_weight\u001b[0m\u001b[0;34m=\u001b[0m\u001b[0msample_weight\u001b[0m\u001b[0;34m,\u001b[0m\u001b[0;34m\u001b[0m\u001b[0m\n\u001b[1;32m   1629\u001b[0m             \u001b[0mclass_weight\u001b[0m\u001b[0;34m=\u001b[0m\u001b[0mclass_weight\u001b[0m\u001b[0;34m,\u001b[0m\u001b[0;34m\u001b[0m\u001b[0m\n\u001b[0;32m-> 1630\u001b[0;31m             batch_size=batch_size)\n\u001b[0m\u001b[1;32m   1631\u001b[0m         \u001b[0;31m# Prepare validation data.\u001b[0m\u001b[0;34m\u001b[0m\u001b[0;34m\u001b[0m\u001b[0m\n\u001b[1;32m   1632\u001b[0m         \u001b[0mdo_validation\u001b[0m \u001b[0;34m=\u001b[0m \u001b[0;32mFalse\u001b[0m\u001b[0;34m\u001b[0m\u001b[0m\n",
      "\u001b[0;32m~/anaconda3/lib/python3.6/site-packages/keras/engine/training.py\u001b[0m in \u001b[0;36m_standardize_user_data\u001b[0;34m(self, x, y, sample_weight, class_weight, check_array_lengths, batch_size)\u001b[0m\n\u001b[1;32m   1474\u001b[0m                                     \u001b[0mself\u001b[0m\u001b[0;34m.\u001b[0m\u001b[0m_feed_input_shapes\u001b[0m\u001b[0;34m,\u001b[0m\u001b[0;34m\u001b[0m\u001b[0m\n\u001b[1;32m   1475\u001b[0m                                     \u001b[0mcheck_batch_axis\u001b[0m\u001b[0;34m=\u001b[0m\u001b[0;32mFalse\u001b[0m\u001b[0;34m,\u001b[0m\u001b[0;34m\u001b[0m\u001b[0m\n\u001b[0;32m-> 1476\u001b[0;31m                                     exception_prefix='input')\n\u001b[0m\u001b[1;32m   1477\u001b[0m         y = _standardize_input_data(y, self._feed_output_names,\n\u001b[1;32m   1478\u001b[0m                                     \u001b[0moutput_shapes\u001b[0m\u001b[0;34m,\u001b[0m\u001b[0;34m\u001b[0m\u001b[0m\n",
      "\u001b[0;32m~/anaconda3/lib/python3.6/site-packages/keras/engine/training.py\u001b[0m in \u001b[0;36m_standardize_input_data\u001b[0;34m(data, names, shapes, check_batch_axis, exception_prefix)\u001b[0m\n\u001b[1;32m    121\u001b[0m                             \u001b[0;34m': expected '\u001b[0m \u001b[0;34m+\u001b[0m \u001b[0mnames\u001b[0m\u001b[0;34m[\u001b[0m\u001b[0mi\u001b[0m\u001b[0;34m]\u001b[0m \u001b[0;34m+\u001b[0m \u001b[0;34m' to have shape '\u001b[0m \u001b[0;34m+\u001b[0m\u001b[0;34m\u001b[0m\u001b[0m\n\u001b[1;32m    122\u001b[0m                             \u001b[0mstr\u001b[0m\u001b[0;34m(\u001b[0m\u001b[0mshape\u001b[0m\u001b[0;34m)\u001b[0m \u001b[0;34m+\u001b[0m \u001b[0;34m' but got array with shape '\u001b[0m \u001b[0;34m+\u001b[0m\u001b[0;34m\u001b[0m\u001b[0m\n\u001b[0;32m--> 123\u001b[0;31m                             str(data_shape))\n\u001b[0m\u001b[1;32m    124\u001b[0m     \u001b[0;32mreturn\u001b[0m \u001b[0mdata\u001b[0m\u001b[0;34m\u001b[0m\u001b[0m\n\u001b[1;32m    125\u001b[0m \u001b[0;34m\u001b[0m\u001b[0m\n",
      "\u001b[0;31mValueError\u001b[0m: Error when checking input: expected dense_75_input to have shape (1024,) but got array with shape (4096,)"
     ]
    }
   ],
   "source": [
    "new_model = Sequential()\n",
    "new_model.add(Dense(1024, activation='relu', input_dim=1024))\n",
    "new_model.add(Dropout(0.5))\n",
    "new_model.add(Dense(512, activation='relu'))\n",
    "new_model.add(Dropout(0.5))\n",
    "new_model.add(Dense(512, activation='relu'))\n",
    "new_model.add(Dropout(0.25))\n",
    "new_model.add(Dense(256, activation='relu'))\n",
    "new_model.add(Dropout(0.25))\n",
    "new_model.add(Dense(256, activation='relu'))\n",
    "new_model.add(Dropout(0.25))\n",
    "new_model.add(Dense(128, activation='relu'))\n",
    "new_model.add(Dropout(0.5))\n",
    "new_model.add(Dense(56, activation='tanh'))\n",
    "new_model.add(Dropout(0.25))\n",
    "new_model.add(Dense(10, activation='softmax'))\n",
    "\n",
    "\n",
    "\n",
    "new_model.compile(loss='mse',\n",
    "              optimizer=RMSprop,\n",
    "              metrics=['accuracy'])\n",
    "new_history = new_model.fit(X_train, y_binary_train,\n",
    "          epochs=100,\n",
    "          batch_size=128, validation_split=.1)\n",
    "score = new_model.evaluate(X_test, y_binary_test, batch_size=128)"
   ]
  },
  {
   "cell_type": "code",
   "execution_count": 26,
   "metadata": {},
   "outputs": [
    {
     "name": "stdout",
     "output_type": "stream",
     "text": [
      "[0.009317771881788563, 0.9498709916760901]\n"
     ]
    }
   ],
   "source": [
    "print(score)"
   ]
  },
  {
   "cell_type": "code",
   "execution_count": 27,
   "metadata": {},
   "outputs": [
    {
     "data": {
      "image/png": "[encoded data removed]",
      "text/plain": [
       "<matplotlib.figure.Figure at 0x7fb31988edd8>"
      ]
     },
     "metadata": {},
     "output_type": "display_data"
    }
   ],
   "source": [
    "plt.plot(new_history.history['acc'])\n",
    "plt.plot(new_history.history['val_acc'])\n",
    "plt.title('model accuracy')\n",
    "plt.ylabel('accuracy')\n",
    "plt.xlabel('epoch')\n",
    "plt.legend(['train', 'validation'], loc='upper left')\n",
    "plt.show()"
   ]
  },
  {
   "cell_type": "markdown",
   "metadata": {},
   "source": [
    "## Now let's try the same with the sextamer data."
   ]
  },
  {
   "cell_type": "code",
   "execution_count": 3,
   "metadata": {},
   "outputs": [],
   "source": [
    "sextamer_fixed_labels = np.load('sextamer_fixed_labels.npy')\n",
    "sextamer_fixed = np.load('sextamer_fixed_data.npy')\n",
    "X_train, X_test, y_train, y_test = train_test_split(sextamer_fixed, sextamer_fixed_labels, \\\n",
    "                                                    test_size = 0.25, random_state=420)\n",
    "y_binary_train = to_categorical(y_train)\n",
    "y_binary_test = to_categorical(y_test)"
   ]
  },
  {
   "cell_type": "markdown",
   "metadata": {},
   "source": [
    "## Use the second model, because it performed better."
   ]
  },
  {
   "cell_type": "code",
   "execution_count": 74,
   "metadata": {},
   "outputs": [
    {
     "name": "stdout",
     "output_type": "stream",
     "text": [
      "Train on 7325 samples, validate on 814 samples\n",
      "Epoch 1/100\n",
      "7325/7325 [==============================] - 2s 313us/step - loss: 1.7502 - acc: 0.3066 - val_loss: 1.4169 - val_acc: 0.3710\n",
      "Epoch 2/100\n",
      "7325/7325 [==============================] - 1s 156us/step - loss: 1.3757 - acc: 0.4531 - val_loss: 1.0495 - val_acc: 0.5971\n",
      "Epoch 3/100\n",
      "7325/7325 [==============================] - 1s 159us/step - loss: 1.0761 - acc: 0.5881 - val_loss: 0.9146 - val_acc: 0.6413\n",
      "Epoch 4/100\n",
      "7325/7325 [==============================] - 1s 158us/step - loss: 0.9763 - acc: 0.6257 - val_loss: 0.8100 - val_acc: 0.6966\n",
      "Epoch 5/100\n",
      "7325/7325 [==============================] - 1s 159us/step - loss: 0.9074 - acc: 0.6435 - val_loss: 0.8864 - val_acc: 0.6425\n",
      "Epoch 6/100\n",
      "7325/7325 [==============================] - 1s 169us/step - loss: 0.8264 - acc: 0.6632 - val_loss: 0.7121 - val_acc: 0.7088\n",
      "Epoch 7/100\n",
      "7325/7325 [==============================] - 1s 160us/step - loss: 0.7933 - acc: 0.6793 - val_loss: 0.7118 - val_acc: 0.7027\n",
      "Epoch 8/100\n",
      "7325/7325 [==============================] - 1s 159us/step - loss: 0.7134 - acc: 0.7167 - val_loss: 0.7845 - val_acc: 0.7322\n",
      "Epoch 9/100\n",
      "7325/7325 [==============================] - 1s 157us/step - loss: 0.6413 - acc: 0.7575 - val_loss: 0.7216 - val_acc: 0.7482\n",
      "Epoch 10/100\n",
      "7325/7325 [==============================] - 1s 158us/step - loss: 0.5846 - acc: 0.7858 - val_loss: 0.5475 - val_acc: 0.8145\n",
      "Epoch 11/100\n",
      "7325/7325 [==============================] - 1s 159us/step - loss: 0.5472 - acc: 0.8115 - val_loss: 0.4818 - val_acc: 0.8612\n",
      "Epoch 12/100\n",
      "7325/7325 [==============================] - 1s 158us/step - loss: 0.4937 - acc: 0.8385 - val_loss: 0.7848 - val_acc: 0.7850\n",
      "Epoch 13/100\n",
      "7325/7325 [==============================] - 1s 158us/step - loss: 0.4526 - acc: 0.8560 - val_loss: 0.5570 - val_acc: 0.8636\n",
      "Epoch 14/100\n",
      "7325/7325 [==============================] - 1s 157us/step - loss: 0.4132 - acc: 0.8795 - val_loss: 0.4369 - val_acc: 0.9017\n",
      "Epoch 15/100\n",
      "7325/7325 [==============================] - 1s 158us/step - loss: 0.3701 - acc: 0.9081 - val_loss: 0.3728 - val_acc: 0.9287\n",
      "Epoch 16/100\n",
      "7325/7325 [==============================] - 1s 157us/step - loss: 0.3247 - acc: 0.9298 - val_loss: 0.6485 - val_acc: 0.8268\n",
      "Epoch 17/100\n",
      "7325/7325 [==============================] - 1s 156us/step - loss: 0.3130 - acc: 0.9305 - val_loss: 0.3491 - val_acc: 0.9287\n",
      "Epoch 18/100\n",
      "7325/7325 [==============================] - 1s 155us/step - loss: 0.2922 - acc: 0.9361 - val_loss: 0.4166 - val_acc: 0.9128\n",
      "Epoch 19/100\n",
      "7325/7325 [==============================] - 1s 158us/step - loss: 0.3031 - acc: 0.9350 - val_loss: 0.3507 - val_acc: 0.9312\n",
      "Epoch 20/100\n",
      "7325/7325 [==============================] - 1s 156us/step - loss: 0.2755 - acc: 0.9423 - val_loss: 0.3618 - val_acc: 0.9275\n",
      "Epoch 21/100\n",
      "7325/7325 [==============================] - 1s 159us/step - loss: 0.2649 - acc: 0.9444 - val_loss: 0.3745 - val_acc: 0.9238\n",
      "2713/2713 [==============================] - 0s 37us/step\n"
     ]
    }
   ],
   "source": [
    "#Yeah but you gotta modify the input dimension for new kmer values, though.\n",
    "\n",
    "new_model = Sequential()\n",
    "new_model.add(Dense(4096, activation='relu', input_dim=4096))\n",
    "new_model.add(Dropout(0.5))\n",
    "new_model.add(Dense(1024, activation='tanh'))\n",
    "new_model.add(Dropout(0.3))\n",
    "new_model.add(Dense(512, activation='relu'))\n",
    "new_model.add(Dropout(0.5))\n",
    "new_model.add(Dense(512, activation='relu'))\n",
    "new_model.add(Dropout(0.25))\n",
    "new_model.add(Dense(256, activation='relu'))\n",
    "new_model.add(Dropout(0.25))\n",
    "new_model.add(Dense(256, activation='relu'))\n",
    "new_model.add(Dropout(0.25))\n",
    "new_model.add(Dense(128, activation='relu'))\n",
    "new_model.add(Dropout(0.5))\n",
    "new_model.add(Dense(56, activation='tanh'))\n",
    "new_model.add(Dropout(0.25))\n",
    "new_model.add(Dense(10, activation='softmax'))\n",
    "\n",
    "new_model.compile(loss='categorical_crossentropy',\n",
    "              optimizer=RMSprop,\n",
    "              metrics=['accuracy'])\n",
    "new_history = new_model.fit(X_train, y_binary_train,\n",
    "          epochs=100,\n",
    "          batch_size=128, callbacks=callbacks, validation_split=.1)\n",
    "score = new_model.evaluate(X_test, y_binary_test, batch_size=128)"
   ]
  },
  {
   "cell_type": "code",
   "execution_count": 36,
   "metadata": {},
   "outputs": [
    {
     "name": "stdout",
     "output_type": "stream",
     "text": [
      "[0.2935248663339323, 0.9332841874003805]\n"
     ]
    }
   ],
   "source": [
    "print(score)"
   ]
  },
  {
   "cell_type": "code",
   "execution_count": 37,
   "metadata": {},
   "outputs": [
    {
     "data": {
      "image/png": "[encoded data removed]",
      "text/plain": [
       "<matplotlib.figure.Figure at 0x7fb0e886f470>"
      ]
     },
     "metadata": {},
     "output_type": "display_data"
    }
   ],
   "source": [
    "plt.plot(new_history.history['acc'])\n",
    "plt.plot(new_history.history['val_acc'])\n",
    "plt.title('model accuracy')\n",
    "plt.ylabel('accuracy')\n",
    "plt.xlabel('epoch')\n",
    "plt.legend(['train', 'validation'], loc='upper left')\n",
    "plt.show()"
   ]
  },
  {
   "cell_type": "markdown",
   "metadata": {},
   "source": [
    "## Okay... what about if we get jiggy wit it tho"
   ]
  },
  {
   "cell_type": "code",
   "execution_count": 38,
   "metadata": {},
   "outputs": [],
   "source": [
    "from keras.layers import Embedding, Reshape, Merge, Dropout, Dense\n",
    "from keras.layers import Input, Embedding, LSTM\n",
    "from keras.models import Model"
   ]
  },
  {
   "cell_type": "code",
   "execution_count": 39,
   "metadata": {},
   "outputs": [
    {
     "data": {
      "text/plain": [
       "(8139, 4096)"
      ]
     },
     "execution_count": 39,
     "metadata": {},
     "output_type": "execute_result"
    }
   ],
   "source": [
    "X_train.shape"
   ]
  },
  {
   "cell_type": "code",
   "execution_count": 41,
   "metadata": {},
   "outputs": [],
   "source": [
    "main_input = Input(shape=(8139,), dtype='int32', name='main_input')\n",
    "x = Embedding(output_dim=512, input_dim=4096, input_length=8139)(main_input)\n",
    "lstm_out = LSTM(32)(x)\n",
    "\n",
    "auxiliary_output = Dense(1, activation='sigmoid', name='aux_output')(lstm_out)\n",
    "\n",
    "auxiliary_input = Input(shape=(5,), name='aux_input')\n",
    "x = keras.layers.concatenate([lstm_out, auxiliary_input])\n",
    "\n",
    "x = Dense(64, activation='relu')(x)\n",
    "x = Dense(64, activation='relu')(x)\n",
    "x = Dense(64, activation='relu')(x)\n",
    "\n",
    "main_output = Dense(1, activation='sigmoid', name='main_output')(x)\n",
    "\n",
    "model = Model(inputs=[main_input, auxiliary_input], outputs=[main_output, auxiliary_output])\n",
    "\n",
    "model.compile(optimizer='rmsprop', loss='categorical_crossentropy',\n",
    "              metrics=['accuracy'])"
   ]
  },
  {
   "cell_type": "markdown",
   "metadata": {},
   "source": [
    "# Cool. So now we need to draw the same-indexed elements from the 5-mers and 6-mers, then get the corresponding labels."
   ]
  },
  {
   "cell_type": "code",
   "execution_count": 4,
   "metadata": {},
   "outputs": [
    {
     "name": "stdout",
     "output_type": "stream",
     "text": [
      "       0         1         2         3         4         5         6     \\\n",
      "0  0.001001  0.001601  0.001601  0.000600  0.002202  0.001401  0.000600   \n",
      "1  0.003002  0.001801  0.002802  0.002802  0.001801  0.002402  0.001001   \n",
      "2  0.003002  0.001601  0.003002  0.001201  0.001001  0.001201  0.001201   \n",
      "3  0.000600  0.000801  0.000400  0.000400  0.000600  0.002002  0.000801   \n",
      "4  0.001201  0.001801  0.002602  0.001601  0.002402  0.001601  0.001201   \n",
      "\n",
      "     7         8         9       ...       1014      1015      1016      1017  \\\n",
      "0  0.0006  0.001201  0.002402    ...     0.0006  0.000801  0.000801  0.001001   \n",
      "1  0.0006  0.001201  0.005404    ...     0.0004  0.001001  0.001201  0.002002   \n",
      "2  0.0006  0.001201  0.003603    ...     0.0004  0.000801  0.000200  0.001201   \n",
      "3  0.0004  0.000400  0.000400    ...     0.0002  0.002202  0.000400  0.004203   \n",
      "4  0.0004  0.000200  0.004604    ...     0.0000  0.000801  0.001001  0.002802   \n",
      "\n",
      "       1018      1019    1020      1021      1022      1023  \n",
      "0  0.001601  0.001601  0.0002  0.001801  0.001601  0.002802  \n",
      "1  0.001801  0.001001  0.0006  0.001201  0.002802  0.001801  \n",
      "2  0.000801  0.000600  0.0004  0.001001  0.001201  0.001201  \n",
      "3  0.001401  0.001801  0.0002  0.002402  0.004003  0.003403  \n",
      "4  0.002602  0.001001  0.0004  0.001001  0.003203  0.001201  \n",
      "\n",
      "[5 rows x 1024 columns]\n",
      "       0         1         2         3         4         5         6     \\\n",
      "0  0.000000  0.000601  0.000200  0.000200  0.000801  0.000400  0.000200   \n",
      "1  0.000400  0.000601  0.001001  0.001001  0.000400  0.000801  0.000601   \n",
      "2  0.000801  0.000801  0.001401  0.000000  0.000200  0.000400  0.000801   \n",
      "3  0.000200  0.000200  0.000200  0.000000  0.000000  0.000601  0.000000   \n",
      "4  0.000000  0.000400  0.000400  0.000400  0.000200  0.000801  0.000601   \n",
      "\n",
      "     7       8         9       ...       4086      4087      4088      4089  \\\n",
      "0  0.0002  0.0002  0.000801    ...     0.0000  0.000200  0.000400  0.000200   \n",
      "1  0.0000  0.0004  0.002202    ...     0.0002  0.000400  0.000601  0.000801   \n",
      "2  0.0002  0.0002  0.002002    ...     0.0000  0.000200  0.000000  0.000801   \n",
      "3  0.0002  0.0002  0.000000    ...     0.0000  0.001401  0.000000  0.002202   \n",
      "4  0.0002  0.0000  0.001802    ...     0.0000  0.000400  0.000601  0.001401   \n",
      "\n",
      "       4090      4091    4092      4093      4094      4095  \n",
      "0  0.000400  0.000601  0.0000  0.001201  0.000801  0.000801  \n",
      "1  0.001201  0.000200  0.0002  0.000200  0.001201  0.000200  \n",
      "2  0.000400  0.000000  0.0002  0.000400  0.000400  0.000200  \n",
      "3  0.000801  0.001001  0.0000  0.001001  0.001602  0.000801  \n",
      "4  0.000801  0.000400  0.0000  0.000601  0.000400  0.000200  \n",
      "\n",
      "[5 rows x 4096 columns]\n"
     ]
    }
   ],
   "source": [
    "import pandas as pd\n",
    "pent_df = pd.DataFrame(pentamer_fixed)\n",
    "sext_df = pd.DataFrame(sextamer_fixed)\n",
    "print(pent_df.head())\n",
    "print(sext_df.head())"
   ]
  },
  {
   "cell_type": "code",
   "execution_count": 5,
   "metadata": {},
   "outputs": [],
   "source": [
    "\"\"\"pent_train=pent_df.sample(frac=0.8,random_state=420)\n",
    "sext_train=sext_df.sample(frac=0.8,random_state=420)\n",
    "\n",
    "pent_test = pent_df.drop(pent_train.index)\n",
    "sext_test = sext_df.drop(sext_train.index)\n",
    "\n",
    "full_labels = pd.Series(pentamer_fixed_labels)\n",
    "y_train = full_labels.drop(pent_test.index)\n",
    "y_test = full_labels.drop(y_train.index)\n",
    "\n",
    "print(pent_train.head())\n",
    "print(sext_train.head())\"\"\"\n",
    "\n",
    "pent_train, pent_test, y_train, y_test = train_test_split(pentamer_fixed, pentamer_fixed_labels, \\\n",
    "                                                          test_size = 0.25, random_state = 420)\n",
    "sext_train, sext_test, y_train, y_test = train_test_split(sextamer_fixed, sextamer_fixed_labels, \\\n",
    "                                                          test_size = 0.25, random_state = 420)"
   ]
  },
  {
   "cell_type": "markdown",
   "metadata": {},
   "source": [
    "## Redeclare the model.\n",
    "\n",
    "https://keras.io/getting-started/functional-api-guide/"
   ]
  },
  {
   "cell_type": "code",
   "execution_count": 43,
   "metadata": {},
   "outputs": [
    {
     "name": "stdout",
     "output_type": "stream",
     "text": [
      "(8139, 1024)\n",
      "(8139, 4096)\n"
     ]
    }
   ],
   "source": [
    "print(pent_train.shape)\n",
    "print(sext_train.shape)"
   ]
  },
  {
   "cell_type": "code",
   "execution_count": 76,
   "metadata": {},
   "outputs": [],
   "source": [
    "main_input = Input(shape=(4096,), name='main_input')\n",
    "x = Dense(2048, activation='relu')(main_input)\n",
    "x = Dropout(.5)(x)\n",
    "x = Dense(2048, activation='relu')(x)\n",
    "x = Dropout(.25)(x)\n",
    "x = Dense(1024, activation='relu')(x)\n",
    "x = Dropout(.25)(x)\n",
    "x = Dense(1024, activation='relu')(x)\n",
    "x = Dropout(.25)(x)\n",
    "x = Dense(256, activation='relu')(x)\n",
    "x = Dropout(.5)(x)\n",
    "x = Dense(128, activation='relu')(x)\n",
    "x = Dropout(.25)(x)\n",
    "x = Dense(128, activation='relu')(x)\n",
    "x = Dropout(.25)(x)\n",
    "x = Dense(64, activation='relu')(x)\n",
    "x = Dropout(.25)(x)\n",
    "\n",
    "main_output = Dense(10, activation='sigmoid', name='main_output')(x)\n",
    "\n",
    "model = Model(inputs=main_input, outputs=main_output)\n",
    "\n",
    "RMSprop2 = keras.optimizers.RMSprop(lr=0.0001, rho=0.9, epsilon=None, decay=0.0)\n",
    "\n",
    "model.compile(optimizer=RMSprop2, loss='mse',\n",
    "              metrics=['accuracy'])"
   ]
  },
  {
   "cell_type": "code",
   "execution_count": 77,
   "metadata": {
    "scrolled": true
   },
   "outputs": [
    {
     "name": "stdout",
     "output_type": "stream",
     "text": [
      "Train on 7325 samples, validate on 814 samples\n",
      "Epoch 1/100\n",
      "7325/7325 [==============================] - 2s 284us/step - loss: 0.1678 - acc: 0.1706 - val_loss: 0.0887 - val_acc: 0.2494\n",
      "Epoch 2/100\n",
      "7325/7325 [==============================] - 1s 126us/step - loss: 0.1139 - acc: 0.1406 - val_loss: 0.0884 - val_acc: 0.2494\n",
      "Epoch 3/100\n",
      "7325/7325 [==============================] - 1s 125us/step - loss: 0.1047 - acc: 0.1423 - val_loss: 0.0885 - val_acc: 0.2494\n",
      "Epoch 4/100\n",
      "7325/7325 [==============================] - 1s 126us/step - loss: 0.0997 - acc: 0.1534 - val_loss: 0.0889 - val_acc: 0.2494\n",
      "Epoch 5/100\n",
      "7325/7325 [==============================] - 1s 126us/step - loss: 0.0959 - acc: 0.1803 - val_loss: 0.0822 - val_acc: 0.2494\n",
      "Epoch 6/100\n",
      "7325/7325 [==============================] - 1s 125us/step - loss: 0.0863 - acc: 0.2699 - val_loss: 0.0739 - val_acc: 0.4091\n",
      "Epoch 7/100\n",
      "7325/7325 [==============================] - 1s 128us/step - loss: 0.0763 - acc: 0.3630 - val_loss: 0.0628 - val_acc: 0.5184\n",
      "Epoch 8/100\n",
      "7325/7325 [==============================] - 1s 128us/step - loss: 0.0691 - acc: 0.4278 - val_loss: 0.0560 - val_acc: 0.5233\n",
      "Epoch 9/100\n",
      "7325/7325 [==============================] - 1s 129us/step - loss: 0.0638 - acc: 0.4601 - val_loss: 0.0547 - val_acc: 0.5246\n",
      "Epoch 10/100\n",
      "7325/7325 [==============================] - 1s 125us/step - loss: 0.0612 - acc: 0.4769 - val_loss: 0.0554 - val_acc: 0.5197\n",
      "Epoch 11/100\n",
      "7325/7325 [==============================] - 1s 126us/step - loss: 0.0598 - acc: 0.4819 - val_loss: 0.0551 - val_acc: 0.5209\n",
      "Epoch 12/100\n",
      "7325/7325 [==============================] - 1s 125us/step - loss: 0.0586 - acc: 0.4853 - val_loss: 0.0547 - val_acc: 0.5356\n",
      "Epoch 13/100\n",
      "7325/7325 [==============================] - 1s 127us/step - loss: 0.0580 - acc: 0.4926 - val_loss: 0.0536 - val_acc: 0.5332\n",
      "Epoch 14/100\n",
      "7325/7325 [==============================] - 1s 133us/step - loss: 0.0574 - acc: 0.4949 - val_loss: 0.0538 - val_acc: 0.5442\n",
      "Epoch 15/100\n",
      "7325/7325 [==============================] - 1s 128us/step - loss: 0.0569 - acc: 0.4952 - val_loss: 0.0530 - val_acc: 0.5344\n",
      "Epoch 16/100\n",
      "7325/7325 [==============================] - 1s 120us/step - loss: 0.0559 - acc: 0.5115 - val_loss: 0.0523 - val_acc: 0.5651\n",
      "Epoch 17/100\n",
      "7325/7325 [==============================] - 1s 121us/step - loss: 0.0557 - acc: 0.5109 - val_loss: 0.0511 - val_acc: 0.5835\n",
      "Epoch 18/100\n",
      "7325/7325 [==============================] - 1s 121us/step - loss: 0.0545 - acc: 0.5285 - val_loss: 0.0499 - val_acc: 0.6057\n",
      "Epoch 19/100\n",
      "7325/7325 [==============================] - 1s 126us/step - loss: 0.0538 - acc: 0.5440 - val_loss: 0.0489 - val_acc: 0.6585\n",
      "Epoch 20/100\n",
      "7325/7325 [==============================] - 1s 131us/step - loss: 0.0531 - acc: 0.5511 - val_loss: 0.0480 - val_acc: 0.6658\n",
      "Epoch 21/100\n",
      "7325/7325 [==============================] - 1s 127us/step - loss: 0.0522 - acc: 0.5625 - val_loss: 0.0475 - val_acc: 0.6450\n",
      "Epoch 22/100\n",
      "7325/7325 [==============================] - 1s 128us/step - loss: 0.0517 - acc: 0.5635 - val_loss: 0.0470 - val_acc: 0.6020\n",
      "Epoch 23/100\n",
      "7325/7325 [==============================] - 1s 128us/step - loss: 0.0507 - acc: 0.5771 - val_loss: 0.0464 - val_acc: 0.6376\n",
      "Epoch 24/100\n",
      "7325/7325 [==============================] - 1s 128us/step - loss: 0.0499 - acc: 0.5843 - val_loss: 0.0462 - val_acc: 0.6474\n",
      "Epoch 25/100\n",
      "7325/7325 [==============================] - 1s 126us/step - loss: 0.0494 - acc: 0.5939 - val_loss: 0.0442 - val_acc: 0.6658\n",
      "Epoch 26/100\n",
      "7325/7325 [==============================] - 1s 127us/step - loss: 0.0484 - acc: 0.6094 - val_loss: 0.0438 - val_acc: 0.6597\n",
      "Epoch 27/100\n",
      "7325/7325 [==============================] - 1s 128us/step - loss: 0.0474 - acc: 0.6272 - val_loss: 0.0415 - val_acc: 0.6990\n",
      "Epoch 28/100\n",
      "7325/7325 [==============================] - 1s 128us/step - loss: 0.0463 - acc: 0.6310 - val_loss: 0.0423 - val_acc: 0.6609\n",
      "Epoch 29/100\n",
      "7325/7325 [==============================] - 1s 129us/step - loss: 0.0450 - acc: 0.6422 - val_loss: 0.0422 - val_acc: 0.6720\n",
      "Epoch 30/100\n",
      "7325/7325 [==============================] - 1s 127us/step - loss: 0.0442 - acc: 0.6498 - val_loss: 0.0397 - val_acc: 0.6818\n",
      "Epoch 31/100\n",
      "7325/7325 [==============================] - 1s 126us/step - loss: 0.0434 - acc: 0.6621 - val_loss: 0.0414 - val_acc: 0.6634\n",
      "Epoch 32/100\n",
      "7325/7325 [==============================] - 1s 129us/step - loss: 0.0425 - acc: 0.6640 - val_loss: 0.0384 - val_acc: 0.7138\n",
      "Epoch 33/100\n",
      "7325/7325 [==============================] - 1s 128us/step - loss: 0.0419 - acc: 0.6726 - val_loss: 0.0376 - val_acc: 0.7174\n",
      "Epoch 34/100\n",
      "7325/7325 [==============================] - 1s 127us/step - loss: 0.0410 - acc: 0.6822 - val_loss: 0.0367 - val_acc: 0.7174\n",
      "Epoch 35/100\n",
      "7325/7325 [==============================] - 1s 127us/step - loss: 0.0405 - acc: 0.6826 - val_loss: 0.0356 - val_acc: 0.7322\n",
      "Epoch 36/100\n",
      "7325/7325 [==============================] - 1s 127us/step - loss: 0.0395 - acc: 0.6927 - val_loss: 0.0431 - val_acc: 0.6560\n",
      "Epoch 37/100\n",
      "7325/7325 [==============================] - 1s 126us/step - loss: 0.0384 - acc: 0.7013 - val_loss: 0.0355 - val_acc: 0.7273\n",
      "Epoch 38/100\n",
      "7325/7325 [==============================] - 1s 126us/step - loss: 0.0377 - acc: 0.7068 - val_loss: 0.0342 - val_acc: 0.7297\n",
      "Epoch 39/100\n",
      "7325/7325 [==============================] - 1s 125us/step - loss: 0.0368 - acc: 0.7111 - val_loss: 0.0371 - val_acc: 0.7015\n",
      "Epoch 40/100\n",
      "7325/7325 [==============================] - 1s 126us/step - loss: 0.0356 - acc: 0.7190 - val_loss: 0.0364 - val_acc: 0.7052\n",
      "Epoch 41/100\n",
      "7325/7325 [==============================] - 1s 128us/step - loss: 0.0355 - acc: 0.7200 - val_loss: 0.0335 - val_acc: 0.7396\n",
      "Epoch 42/100\n",
      "7325/7325 [==============================] - 1s 128us/step - loss: 0.0346 - acc: 0.7263 - val_loss: 0.0400 - val_acc: 0.7002\n",
      "Epoch 43/100\n",
      "7325/7325 [==============================] - 1s 127us/step - loss: 0.0340 - acc: 0.7322 - val_loss: 0.0327 - val_acc: 0.7494\n",
      "Epoch 44/100\n",
      "7325/7325 [==============================] - 1s 126us/step - loss: 0.0336 - acc: 0.7332 - val_loss: 0.0327 - val_acc: 0.7506\n",
      "Epoch 45/100\n",
      "7325/7325 [==============================] - 1s 128us/step - loss: 0.0332 - acc: 0.7368 - val_loss: 0.0321 - val_acc: 0.7494\n",
      "Epoch 46/100\n",
      "7325/7325 [==============================] - 1s 127us/step - loss: 0.0326 - acc: 0.7395 - val_loss: 0.0327 - val_acc: 0.7322\n",
      "Epoch 47/100\n",
      "7325/7325 [==============================] - 1s 131us/step - loss: 0.0322 - acc: 0.7458 - val_loss: 0.0354 - val_acc: 0.7432\n",
      "Epoch 48/100\n",
      "7325/7325 [==============================] - 1s 129us/step - loss: 0.0320 - acc: 0.7433 - val_loss: 0.0316 - val_acc: 0.7420\n",
      "Epoch 49/100\n",
      "7325/7325 [==============================] - 1s 129us/step - loss: 0.0313 - acc: 0.7552 - val_loss: 0.0310 - val_acc: 0.7543\n",
      "Epoch 50/100\n",
      "7325/7325 [==============================] - 1s 127us/step - loss: 0.0309 - acc: 0.7569 - val_loss: 0.0385 - val_acc: 0.7285\n",
      "Epoch 51/100\n",
      "7325/7325 [==============================] - 1s 127us/step - loss: 0.0307 - acc: 0.7629 - val_loss: 0.0309 - val_acc: 0.7580\n",
      "Epoch 52/100\n",
      "7325/7325 [==============================] - 1s 130us/step - loss: 0.0302 - acc: 0.7660 - val_loss: 0.0301 - val_acc: 0.7764\n",
      "Epoch 53/100\n",
      "7325/7325 [==============================] - 1s 129us/step - loss: 0.0290 - acc: 0.7777 - val_loss: 0.0330 - val_acc: 0.7531\n",
      "Epoch 54/100\n",
      "7325/7325 [==============================] - 1s 126us/step - loss: 0.0288 - acc: 0.7808 - val_loss: 0.0326 - val_acc: 0.7580\n",
      "Epoch 55/100\n",
      "7325/7325 [==============================] - 1s 128us/step - loss: 0.0286 - acc: 0.7832 - val_loss: 0.0338 - val_acc: 0.7371\n",
      "Epoch 56/100\n",
      "7325/7325 [==============================] - 1s 127us/step - loss: 0.0282 - acc: 0.7846 - val_loss: 0.0291 - val_acc: 0.7924\n",
      "Epoch 57/100\n",
      "7325/7325 [==============================] - 1s 130us/step - loss: 0.0276 - acc: 0.7843 - val_loss: 0.0279 - val_acc: 0.8120\n",
      "Epoch 58/100\n",
      "7325/7325 [==============================] - 1s 133us/step - loss: 0.0268 - acc: 0.7949 - val_loss: 0.0291 - val_acc: 0.7826\n",
      "Epoch 59/100\n",
      "7325/7325 [==============================] - 1s 134us/step - loss: 0.0265 - acc: 0.7989 - val_loss: 0.0324 - val_acc: 0.7666\n",
      "Epoch 60/100\n"
     ]
    },
    {
     "name": "stdout",
     "output_type": "stream",
     "text": [
      "7325/7325 [==============================] - 1s 128us/step - loss: 0.0265 - acc: 0.7996 - val_loss: 0.0303 - val_acc: 0.7912\n",
      "Epoch 61/100\n",
      "7325/7325 [==============================] - 1s 130us/step - loss: 0.0253 - acc: 0.8119 - val_loss: 0.0269 - val_acc: 0.8194\n",
      "Epoch 62/100\n",
      "7325/7325 [==============================] - 1s 131us/step - loss: 0.0253 - acc: 0.8119 - val_loss: 0.0276 - val_acc: 0.8157\n",
      "Epoch 63/100\n",
      "7325/7325 [==============================] - 1s 129us/step - loss: 0.0244 - acc: 0.8231 - val_loss: 0.0281 - val_acc: 0.8071\n",
      "Epoch 64/100\n",
      "7325/7325 [==============================] - 1s 125us/step - loss: 0.0243 - acc: 0.8288 - val_loss: 0.0262 - val_acc: 0.8292\n",
      "Epoch 65/100\n",
      "7325/7325 [==============================] - 1s 122us/step - loss: 0.0235 - acc: 0.8334 - val_loss: 0.0248 - val_acc: 0.8440\n",
      "Epoch 66/100\n",
      "7325/7325 [==============================] - 1s 123us/step - loss: 0.0230 - acc: 0.8414 - val_loss: 0.0251 - val_acc: 0.8305\n",
      "Epoch 67/100\n",
      "7325/7325 [==============================] - 1s 121us/step - loss: 0.0222 - acc: 0.8493 - val_loss: 0.0250 - val_acc: 0.8133\n",
      "Epoch 68/100\n",
      "7325/7325 [==============================] - 1s 123us/step - loss: 0.0215 - acc: 0.8557 - val_loss: 0.0249 - val_acc: 0.8194\n",
      "Epoch 69/100\n",
      "7325/7325 [==============================] - 1s 122us/step - loss: 0.0209 - acc: 0.8582 - val_loss: 0.0248 - val_acc: 0.8219\n",
      "2713/2713 [==============================] - 0s 36us/step\n"
     ]
    }
   ],
   "source": [
    "y_binary_train = to_categorical(y_train)\n",
    "y_binary_test = to_categorical(y_test)\n",
    "history = model.fit(sext_train, y_binary_train,\n",
    "          epochs=100, callbacks=callbacks, batch_size=128, validation_split=.1)\n",
    "score = model.evaluate(sext_test, y_binary_test, batch_size=128)"
   ]
  },
  {
   "cell_type": "code",
   "execution_count": 70,
   "metadata": {},
   "outputs": [
    {
     "data": {
      "text/plain": [
       "[0.012729286207617362, 0.928123848094652]"
      ]
     },
     "execution_count": 70,
     "metadata": {},
     "output_type": "execute_result"
    }
   ],
   "source": [
    "score"
   ]
  },
  {
   "cell_type": "code",
   "execution_count": 71,
   "metadata": {},
   "outputs": [
    {
     "name": "stdout",
     "output_type": "stream",
     "text": [
      "Train on 7325 samples, validate on 814 samples\n",
      "Epoch 1/100\n",
      "7325/7325 [==============================] - 1s 187us/step - loss: 0.0074 - acc: 0.9604 - val_loss: 0.0106 - val_acc: 0.9423\n",
      "Epoch 2/100\n",
      "7325/7325 [==============================] - 0s 64us/step - loss: 0.0075 - acc: 0.9589 - val_loss: 0.0108 - val_acc: 0.9410\n",
      "Epoch 3/100\n",
      "7325/7325 [==============================] - 0s 64us/step - loss: 0.0075 - acc: 0.9599 - val_loss: 0.0109 - val_acc: 0.9410\n",
      "Epoch 4/100\n",
      "7325/7325 [==============================] - 0s 60us/step - loss: 0.0075 - acc: 0.9596 - val_loss: 0.0110 - val_acc: 0.9398\n",
      "Epoch 5/100\n",
      "7325/7325 [==============================] - 0s 61us/step - loss: 0.0073 - acc: 0.9604 - val_loss: 0.0110 - val_acc: 0.9410\n",
      "2713/2713 [==============================] - 0s 18us/step\n"
     ]
    }
   ],
   "source": [
    "new_model.compile(loss='mse',\n",
    "              optimizer=RMSprop2,\n",
    "              metrics=['accuracy'])\n",
    "new_history = new_model.fit(pent_train, y_binary_train,\n",
    "          epochs=100,\n",
    "          batch_size=128, callbacks=callbacks, validation_split=.1)\n",
    "new_score = new_model.evaluate(pent_test, y_binary_test, batch_size=128)"
   ]
  },
  {
   "cell_type": "markdown",
   "metadata": {},
   "source": [
    "## Looks like you fucked up doing the train test split!"
   ]
  },
  {
   "cell_type": "code",
   "execution_count": 78,
   "metadata": {},
   "outputs": [
    {
     "data": {
      "image/png": "[encoded data removed]",
      "text/plain": [
       "<matplotlib.figure.Figure at 0x7f28ce8e9d68>"
      ]
     },
     "metadata": {},
     "output_type": "display_data"
    }
   ],
   "source": [
    "plt.plot(new_history.history['acc'])\n",
    "plt.plot(new_history.history['val_acc'])\n",
    "plt.title('model accuracy')\n",
    "plt.ylabel('accuracy')\n",
    "plt.xlabel('epoch')\n",
    "plt.legend(['train', 'validation'], loc='upper left')\n",
    "plt.show()"
   ]
  },
  {
   "cell_type": "code",
   "execution_count": 79,
   "metadata": {},
   "outputs": [
    {
     "data": {
      "image/png": "[encoded data removed]",
      "text/plain": [
       "<matplotlib.figure.Figure at 0x7f28ce97d2e8>"
      ]
     },
     "metadata": {},
     "output_type": "display_data"
    }
   ],
   "source": [
    "plt.plot(history.history['acc'])\n",
    "plt.plot(history.history['val_acc'])\n",
    "plt.title('model accuracy')\n",
    "plt.ylabel('accuracy')\n",
    "plt.xlabel('epoch')\n",
    "plt.legend(['train', 'validation'], loc='upper left')\n",
    "plt.show()"
   ]
  },
  {
   "cell_type": "markdown",
   "metadata": {},
   "source": [
    "## Now let us begin to get truly \"jiggy\""
   ]
  },
  {
   "cell_type": "code",
   "execution_count": 43,
   "metadata": {},
   "outputs": [],
   "source": [
    "main_input = Input(shape=(4096,), name='main_input')\n",
    "x = Dense(2048, activation='relu')(main_input)\n",
    "x = Dropout(.5)(x)\n",
    "x = Dense(2048, activation='relu')(x)\n",
    "x = Dropout(.25)(x)\n",
    "x = Dense(1024, activation='relu')(x)\n",
    "x = Dropout(.25)(x)\n",
    "x = Dense(1024, activation='relu')(x)\n",
    "x = Dropout(.25)(x)\n",
    "x = Dense(256, activation='relu')(x)\n",
    "x = Dropout(.5)(x)\n",
    "x = Dense(128, activation='relu')(x)\n",
    "x = Dropout(.25)(x)\n",
    "x = Dense(128, activation='relu')(x)\n",
    "x = Dropout(.25)(x)\n",
    "x = Dense(64, activation='relu')(x)\n",
    "x = Dropout(.25)(x)\n",
    "\n",
    "#auxiliary_output_1 = Dense(10, activation='softmax', name='auxiliary_output_1')(x)\n",
    "\n",
    "auxiliary_input = Input(shape=(1024,), name='auxiliary_input')\n",
    "y = Dense(1024, activation='relu')(auxiliary_input)\n",
    "y = Dropout(0.5)(y)\n",
    "y = Dense(512, activation='sigmoid')(y)\n",
    "y = Dropout(0.5)(y)\n",
    "y = Dense(512, activation='relu')(y)\n",
    "y = Dropout(.25)(y)\n",
    "y = Dense(256, activation='relu')(y)\n",
    "y = Dropout(.25)(y)\n",
    "y = Dense(256, activation='relu')(y)\n",
    "y = Dropout(.25)(y)\n",
    "y = Dense(128, activation='relu')(y)\n",
    "y = Dropout(.25)(y)\n",
    "y = Dense(128, activation='relu')(y)\n",
    "y = Dropout(.25)(y)\n",
    "y = Dense(64, activation='relu')(y)\n",
    "y = Dropout(.25)(y)\n",
    "\n",
    "#auxiliary_output_2 = Dense(10, activation='softmax', name='auxiliary_output_2')(y)\n",
    "\n",
    "#x = Lambda(lambda x: K.batch_dot(x[0], x[1]))([x, y])\n",
    "x = keras.layers.concatenate([x, y])\n",
    "#x = keras.layers.Dot([1,1])([x,y])\n",
    "\n",
    "x = Dense(128, activation='sigmoid')(x)\n",
    "x = Dropout(0.25)(x)\n",
    "x = Dense(128, activation='sigmoid')(x)\n",
    "x = Dropout(0.25)(x)\n",
    "x = Dense(64, activation='relu')(x)\n",
    "x = Dropout(0.3)(x)\n",
    "x = Dense(64, activation='relu')(x)\n",
    "x = Dropout(0.3)(x)\n",
    "x = Dense(64, activation='relu')(x)\n",
    "x = Dropout(0.3)(x)\n",
    "x = Dense(64, activation='relu')(x)\n",
    "x = Dropout(0.3)(x)\n",
    "x = Dense(64, activation='relu')(x)\n",
    "x = Dropout(0.3)(x)\n",
    "x = Dense(20, activation='tanh')(x)\n",
    "x = Dense(20, activation='tanh')(x)\n",
    "x = Dense(20, activation='tanh')(x)\n",
    "x = Dense(20, activation='tanh')(x)\n",
    "\n",
    "\n",
    "main_output = Dense(10, activation='softmax', name='main_output')(x)\n",
    "\n",
    "model = Model(inputs=[main_input, auxiliary_input], outputs=main_output) #auxiliary_output_1, auxiliary_output_2\n",
    "\n",
    "Adam = keras.optimizers.Adam(lr=0.001, beta_1=0.9,\n",
    "  beta_2=0.999, epsilon=None, decay=0.0, amsgrad=False)"
   ]
  },
  {
   "cell_type": "code",
   "execution_count": 44,
   "metadata": {},
   "outputs": [
    {
     "name": "stdout",
     "output_type": "stream",
     "text": [
      "Train on 7325 samples, validate on 814 samples\n",
      "Epoch 1/200\n",
      "7325/7325 [==============================] - 5s 645us/step - loss: 2.1865 - acc: 0.2108 - val_loss: 2.1361 - val_acc: 0.2494\n",
      "Epoch 2/200\n",
      " 640/7325 [=>............................] - ETA: 1s - loss: 2.1713 - acc: 0.2016"
     ]
    },
    {
     "name": "stderr",
     "output_type": "stream",
     "text": [
      "/home/jacob/anaconda3/lib/python3.6/site-packages/keras/callbacks.py:526: RuntimeWarning: Early stopping conditioned on metric `val_main_output_acc` which is not available. Available metrics are: val_loss,val_acc,loss,acc\n",
      "  (self.monitor, ','.join(list(logs.keys()))), RuntimeWarning\n"
     ]
    },
    {
     "name": "stdout",
     "output_type": "stream",
     "text": [
      "7325/7325 [==============================] - 2s 234us/step - loss: 2.1513 - acc: 0.2374 - val_loss: 2.1340 - val_acc: 0.2494\n",
      "Epoch 3/200\n",
      "7325/7325 [==============================] - 2s 233us/step - loss: 2.1496 - acc: 0.2367 - val_loss: 2.1369 - val_acc: 0.2494\n",
      "Epoch 4/200\n",
      "7325/7325 [==============================] - 2s 234us/step - loss: 2.1503 - acc: 0.2386 - val_loss: 2.1356 - val_acc: 0.2494\n",
      "Epoch 5/200\n",
      "7325/7325 [==============================] - 2s 239us/step - loss: 2.1497 - acc: 0.2384 - val_loss: 2.1353 - val_acc: 0.2494\n",
      "Epoch 6/200\n",
      "7325/7325 [==============================] - 2s 239us/step - loss: 2.1479 - acc: 0.2385 - val_loss: 2.1351 - val_acc: 0.2494\n",
      "Epoch 7/200\n",
      "7325/7325 [==============================] - 2s 236us/step - loss: 2.1479 - acc: 0.2384 - val_loss: 2.1335 - val_acc: 0.2494\n",
      "Epoch 8/200\n",
      "7325/7325 [==============================] - 2s 241us/step - loss: 2.1488 - acc: 0.2385 - val_loss: 2.1369 - val_acc: 0.2494\n",
      "Epoch 9/200\n",
      "7325/7325 [==============================] - 2s 242us/step - loss: 2.1483 - acc: 0.2382 - val_loss: 2.1368 - val_acc: 0.2494\n",
      "Epoch 10/200\n",
      "7325/7325 [==============================] - 2s 239us/step - loss: 2.1484 - acc: 0.2384 - val_loss: 2.1341 - val_acc: 0.2494\n",
      "Epoch 11/200\n",
      "7325/7325 [==============================] - 2s 237us/step - loss: 2.1481 - acc: 0.2386 - val_loss: 2.1347 - val_acc: 0.2494\n",
      "Epoch 12/200\n",
      "7325/7325 [==============================] - 2s 240us/step - loss: 2.1479 - acc: 0.2388 - val_loss: 2.1364 - val_acc: 0.2494\n",
      "Epoch 13/200\n",
      "7325/7325 [==============================] - 2s 238us/step - loss: 2.1476 - acc: 0.2386 - val_loss: 2.1359 - val_acc: 0.2494\n",
      "Epoch 14/200\n",
      "7325/7325 [==============================] - 2s 239us/step - loss: 2.1475 - acc: 0.2386 - val_loss: 2.1383 - val_acc: 0.2494\n",
      "Epoch 15/200\n",
      "7325/7325 [==============================] - 2s 238us/step - loss: 2.1482 - acc: 0.2386 - val_loss: 2.1367 - val_acc: 0.2494\n",
      "Epoch 16/200\n",
      "7325/7325 [==============================] - 2s 244us/step - loss: 2.1478 - acc: 0.2386 - val_loss: 2.1358 - val_acc: 0.2494\n",
      "Epoch 17/200\n",
      "7325/7325 [==============================] - 2s 241us/step - loss: 2.1482 - acc: 0.2386 - val_loss: 2.1358 - val_acc: 0.2494\n",
      "Epoch 18/200\n",
      "7325/7325 [==============================] - 2s 233us/step - loss: 2.1468 - acc: 0.2386 - val_loss: 2.1369 - val_acc: 0.2494\n",
      "Epoch 19/200\n",
      "7325/7325 [==============================] - 2s 228us/step - loss: 2.1474 - acc: 0.2386 - val_loss: 2.1386 - val_acc: 0.2494\n",
      "Epoch 20/200\n",
      "7325/7325 [==============================] - 2s 229us/step - loss: 2.1472 - acc: 0.2386 - val_loss: 2.1343 - val_acc: 0.2494\n",
      "Epoch 21/200\n",
      "7325/7325 [==============================] - 2s 228us/step - loss: 2.1474 - acc: 0.2386 - val_loss: 2.1358 - val_acc: 0.2494\n",
      "Epoch 22/200\n",
      "7325/7325 [==============================] - 2s 225us/step - loss: 2.1468 - acc: 0.2386 - val_loss: 2.1340 - val_acc: 0.2494\n",
      "Epoch 23/200\n",
      "7325/7325 [==============================] - 2s 232us/step - loss: 2.1472 - acc: 0.2386 - val_loss: 2.1363 - val_acc: 0.2494\n",
      "Epoch 24/200\n",
      "7325/7325 [==============================] - 2s 243us/step - loss: 2.1478 - acc: 0.2386 - val_loss: 2.1349 - val_acc: 0.2494\n",
      "Epoch 25/200\n",
      "7325/7325 [==============================] - 2s 226us/step - loss: 2.1469 - acc: 0.2386 - val_loss: 2.1358 - val_acc: 0.2494\n",
      "Epoch 26/200\n",
      "7325/7325 [==============================] - 2s 230us/step - loss: 2.1472 - acc: 0.2386 - val_loss: 2.1365 - val_acc: 0.2494\n",
      "Epoch 27/200\n",
      "7325/7325 [==============================] - 2s 229us/step - loss: 2.1486 - acc: 0.2386 - val_loss: 2.1339 - val_acc: 0.2494\n",
      "Epoch 28/200\n",
      "7325/7325 [==============================] - 2s 229us/step - loss: 2.1474 - acc: 0.2386 - val_loss: 2.1361 - val_acc: 0.2494\n",
      "Epoch 29/200\n",
      "7325/7325 [==============================] - 2s 229us/step - loss: 2.1478 - acc: 0.2386 - val_loss: 2.1348 - val_acc: 0.2494\n",
      "Epoch 30/200\n",
      "7325/7325 [==============================] - 2s 242us/step - loss: 2.1473 - acc: 0.2386 - val_loss: 2.1369 - val_acc: 0.2494\n",
      "Epoch 31/200\n",
      "7325/7325 [==============================] - 2s 242us/step - loss: 2.1481 - acc: 0.2386 - val_loss: 2.1362 - val_acc: 0.2494\n",
      "Epoch 32/200\n",
      "7325/7325 [==============================] - 2s 236us/step - loss: 2.1469 - acc: 0.2386 - val_loss: 2.1356 - val_acc: 0.2494\n",
      "Epoch 33/200\n",
      "7325/7325 [==============================] - 2s 241us/step - loss: 2.1477 - acc: 0.2386 - val_loss: 2.1376 - val_acc: 0.2494\n",
      "Epoch 34/200\n",
      "7325/7325 [==============================] - 2s 221us/step - loss: 2.1472 - acc: 0.2386 - val_loss: 2.1350 - val_acc: 0.2494\n",
      "Epoch 35/200\n",
      "7325/7325 [==============================] - 2s 228us/step - loss: 2.1479 - acc: 0.2386 - val_loss: 2.1347 - val_acc: 0.2494\n",
      "Epoch 36/200\n",
      "7325/7325 [==============================] - 2s 238us/step - loss: 2.1468 - acc: 0.2386 - val_loss: 2.1352 - val_acc: 0.2494\n",
      "Epoch 37/200\n",
      "7325/7325 [==============================] - 2s 234us/step - loss: 2.1470 - acc: 0.2386 - val_loss: 2.1346 - val_acc: 0.2494\n",
      "Epoch 38/200\n",
      "7325/7325 [==============================] - 2s 233us/step - loss: 2.1476 - acc: 0.2386 - val_loss: 2.1354 - val_acc: 0.2494\n",
      "Epoch 39/200\n",
      "7325/7325 [==============================] - 2s 238us/step - loss: 2.1474 - acc: 0.2386 - val_loss: 2.1388 - val_acc: 0.2494\n",
      "Epoch 40/200\n",
      "7325/7325 [==============================] - 2s 252us/step - loss: 2.1477 - acc: 0.2386 - val_loss: 2.1332 - val_acc: 0.2494\n",
      "Epoch 41/200\n",
      "7325/7325 [==============================] - 2s 236us/step - loss: 2.1472 - acc: 0.2386 - val_loss: 2.1371 - val_acc: 0.2494\n",
      "Epoch 42/200\n",
      "7325/7325 [==============================] - 2s 222us/step - loss: 2.1474 - acc: 0.2386 - val_loss: 2.1358 - val_acc: 0.2494\n",
      "Epoch 43/200\n",
      "7325/7325 [==============================] - 2s 227us/step - loss: 2.1470 - acc: 0.2386 - val_loss: 2.1339 - val_acc: 0.2494\n",
      "Epoch 44/200\n",
      "7325/7325 [==============================] - 2s 233us/step - loss: 2.1472 - acc: 0.2386 - val_loss: 2.1380 - val_acc: 0.2494\n",
      "Epoch 45/200\n",
      "7325/7325 [==============================] - 2s 231us/step - loss: 2.1469 - acc: 0.2386 - val_loss: 2.1354 - val_acc: 0.2494\n",
      "Epoch 46/200\n",
      "7325/7325 [==============================] - 2s 245us/step - loss: 2.1477 - acc: 0.2386 - val_loss: 2.1358 - val_acc: 0.2494\n",
      "Epoch 47/200\n",
      "7325/7325 [==============================] - 2s 230us/step - loss: 2.1473 - acc: 0.2386 - val_loss: 2.1353 - val_acc: 0.2494\n",
      "Epoch 48/200\n",
      "7325/7325 [==============================] - 2s 223us/step - loss: 2.1469 - acc: 0.2386 - val_loss: 2.1353 - val_acc: 0.2494\n",
      "Epoch 49/200\n",
      "7325/7325 [==============================] - 2s 225us/step - loss: 2.1470 - acc: 0.2386 - val_loss: 2.1365 - val_acc: 0.2494\n",
      "Epoch 50/200\n",
      "7325/7325 [==============================] - 2s 222us/step - loss: 2.1467 - acc: 0.2386 - val_loss: 2.1347 - val_acc: 0.2494\n",
      "Epoch 51/200\n",
      "7325/7325 [==============================] - 2s 251us/step - loss: 2.1473 - acc: 0.2386 - val_loss: 2.1341 - val_acc: 0.2494\n",
      "Epoch 52/200\n",
      "7325/7325 [==============================] - 2s 227us/step - loss: 2.1468 - acc: 0.2386 - val_loss: 2.1346 - val_acc: 0.2494\n",
      "Epoch 53/200\n",
      "7325/7325 [==============================] - 2s 238us/step - loss: 2.1469 - acc: 0.2386 - val_loss: 2.1350 - val_acc: 0.2494\n",
      "Epoch 54/200\n",
      "7325/7325 [==============================] - 2s 246us/step - loss: 2.1470 - acc: 0.2386 - val_loss: 2.1335 - val_acc: 0.2494\n",
      "Epoch 55/200\n",
      "7325/7325 [==============================] - 2s 247us/step - loss: 2.1476 - acc: 0.2386 - val_loss: 2.1339 - val_acc: 0.2494\n",
      "Epoch 56/200\n",
      "7325/7325 [==============================] - 2s 242us/step - loss: 2.1474 - acc: 0.2386 - val_loss: 2.1346 - val_acc: 0.2494\n",
      "Epoch 57/200\n",
      "7325/7325 [==============================] - 2s 246us/step - loss: 2.1471 - acc: 0.2386 - val_loss: 2.1355 - val_acc: 0.2494\n",
      "Epoch 58/200\n",
      "7325/7325 [==============================] - 2s 255us/step - loss: 2.1465 - acc: 0.2386 - val_loss: 2.1331 - val_acc: 0.2494\n",
      "Epoch 59/200\n",
      "7325/7325 [==============================] - 2s 247us/step - loss: 2.1469 - acc: 0.2386 - val_loss: 2.1367 - val_acc: 0.2494\n",
      "Epoch 60/200\n",
      "7325/7325 [==============================] - 2s 243us/step - loss: 2.1471 - acc: 0.2386 - val_loss: 2.1366 - val_acc: 0.2494\n",
      "Epoch 61/200\n"
     ]
    },
    {
     "name": "stdout",
     "output_type": "stream",
     "text": [
      "7325/7325 [==============================] - 2s 244us/step - loss: 2.1474 - acc: 0.2386 - val_loss: 2.1355 - val_acc: 0.2494\n",
      "Epoch 62/200\n",
      "7325/7325 [==============================] - 2s 240us/step - loss: 2.1465 - acc: 0.2386 - val_loss: 2.1355 - val_acc: 0.2494\n",
      "Epoch 63/200\n",
      "7325/7325 [==============================] - 2s 244us/step - loss: 2.1470 - acc: 0.2386 - val_loss: 2.1365 - val_acc: 0.2494\n",
      "Epoch 64/200\n",
      "7325/7325 [==============================] - 2s 248us/step - loss: 2.1465 - acc: 0.2386 - val_loss: 2.1335 - val_acc: 0.2494\n",
      "Epoch 65/200\n",
      "7325/7325 [==============================] - 2s 239us/step - loss: 2.1466 - acc: 0.2386 - val_loss: 2.1353 - val_acc: 0.2494\n",
      "Epoch 66/200\n",
      "7325/7325 [==============================] - 2s 239us/step - loss: 2.1468 - acc: 0.2386 - val_loss: 2.1358 - val_acc: 0.2494\n",
      "Epoch 67/200\n",
      "7325/7325 [==============================] - 2s 247us/step - loss: 2.1466 - acc: 0.2386 - val_loss: 2.1356 - val_acc: 0.2494\n",
      "Epoch 68/200\n",
      "7325/7325 [==============================] - 2s 219us/step - loss: 2.1468 - acc: 0.2386 - val_loss: 2.1341 - val_acc: 0.2494\n",
      "Epoch 69/200\n",
      "7325/7325 [==============================] - 2s 224us/step - loss: 2.1467 - acc: 0.2386 - val_loss: 2.1346 - val_acc: 0.2494\n",
      "Epoch 70/200\n",
      "7325/7325 [==============================] - 2s 217us/step - loss: 2.1467 - acc: 0.2386 - val_loss: 2.1343 - val_acc: 0.2494\n",
      "Epoch 71/200\n",
      "7325/7325 [==============================] - 2s 224us/step - loss: 2.1470 - acc: 0.2386 - val_loss: 2.1350 - val_acc: 0.2494\n",
      "Epoch 72/200\n",
      "7325/7325 [==============================] - 2s 221us/step - loss: 2.1470 - acc: 0.2386 - val_loss: 2.1344 - val_acc: 0.2494\n",
      "Epoch 73/200\n",
      "7325/7325 [==============================] - 2s 217us/step - loss: 2.1470 - acc: 0.2386 - val_loss: 2.1349 - val_acc: 0.2494\n",
      "Epoch 74/200\n",
      "7325/7325 [==============================] - 2s 219us/step - loss: 2.1470 - acc: 0.2386 - val_loss: 2.1337 - val_acc: 0.2494\n",
      "Epoch 75/200\n",
      "7325/7325 [==============================] - 2s 218us/step - loss: 2.1469 - acc: 0.2386 - val_loss: 2.1357 - val_acc: 0.2494\n",
      "Epoch 76/200\n",
      "7325/7325 [==============================] - 2s 218us/step - loss: 2.1465 - acc: 0.2386 - val_loss: 2.1334 - val_acc: 0.2494\n",
      "Epoch 77/200\n",
      "7325/7325 [==============================] - 2s 218us/step - loss: 2.1466 - acc: 0.2386 - val_loss: 2.1342 - val_acc: 0.2494\n",
      "Epoch 78/200\n",
      "7325/7325 [==============================] - 2s 217us/step - loss: 2.1473 - acc: 0.2386 - val_loss: 2.1355 - val_acc: 0.2494\n",
      "Epoch 79/200\n",
      "7325/7325 [==============================] - 2s 218us/step - loss: 2.1469 - acc: 0.2386 - val_loss: 2.1348 - val_acc: 0.2494\n",
      "Epoch 80/200\n",
      "7325/7325 [==============================] - 2s 216us/step - loss: 2.1469 - acc: 0.2386 - val_loss: 2.1368 - val_acc: 0.2494\n",
      "Epoch 81/200\n",
      "7325/7325 [==============================] - 2s 216us/step - loss: 2.1464 - acc: 0.2386 - val_loss: 2.1343 - val_acc: 0.2494\n",
      "Epoch 82/200\n",
      "7325/7325 [==============================] - 2s 218us/step - loss: 2.1468 - acc: 0.2386 - val_loss: 2.1365 - val_acc: 0.2494\n",
      "Epoch 83/200\n",
      "7325/7325 [==============================] - 2s 217us/step - loss: 2.1466 - acc: 0.2386 - val_loss: 2.1347 - val_acc: 0.2494\n",
      "Epoch 84/200\n",
      "7325/7325 [==============================] - 2s 227us/step - loss: 2.1469 - acc: 0.2386 - val_loss: 2.1367 - val_acc: 0.2494\n",
      "Epoch 85/200\n",
      "7325/7325 [==============================] - 2s 221us/step - loss: 2.1472 - acc: 0.2386 - val_loss: 2.1363 - val_acc: 0.2494\n",
      "Epoch 86/200\n",
      "7325/7325 [==============================] - 2s 216us/step - loss: 2.1474 - acc: 0.2386 - val_loss: 2.1347 - val_acc: 0.2494\n",
      "Epoch 87/200\n",
      "7325/7325 [==============================] - 2s 219us/step - loss: 2.1464 - acc: 0.2386 - val_loss: 2.1348 - val_acc: 0.2494\n",
      "Epoch 88/200\n",
      "7325/7325 [==============================] - 2s 221us/step - loss: 2.1467 - acc: 0.2386 - val_loss: 2.1353 - val_acc: 0.2494\n",
      "Epoch 89/200\n",
      "7325/7325 [==============================] - 2s 220us/step - loss: 2.1471 - acc: 0.2386 - val_loss: 2.1350 - val_acc: 0.2494\n",
      "Epoch 90/200\n",
      "7325/7325 [==============================] - 2s 219us/step - loss: 2.1463 - acc: 0.2386 - val_loss: 2.1360 - val_acc: 0.2494\n",
      "Epoch 91/200\n",
      "7325/7325 [==============================] - 2s 215us/step - loss: 2.1469 - acc: 0.2386 - val_loss: 2.1334 - val_acc: 0.2494\n",
      "Epoch 92/200\n",
      "7325/7325 [==============================] - 2s 220us/step - loss: 2.1467 - acc: 0.2386 - val_loss: 2.1361 - val_acc: 0.2494\n",
      "Epoch 93/200\n",
      "7325/7325 [==============================] - 2s 218us/step - loss: 2.1467 - acc: 0.2386 - val_loss: 2.1341 - val_acc: 0.2494\n",
      "Epoch 94/200\n",
      "7325/7325 [==============================] - 2s 219us/step - loss: 2.1468 - acc: 0.2386 - val_loss: 2.1362 - val_acc: 0.2494\n",
      "Epoch 95/200\n",
      "7325/7325 [==============================] - 2s 219us/step - loss: 2.1471 - acc: 0.2386 - val_loss: 2.1345 - val_acc: 0.2494\n",
      "Epoch 96/200\n",
      "7325/7325 [==============================] - 2s 218us/step - loss: 2.1469 - acc: 0.2386 - val_loss: 2.1348 - val_acc: 0.2494\n",
      "Epoch 97/200\n",
      "7325/7325 [==============================] - 2s 217us/step - loss: 2.1471 - acc: 0.2386 - val_loss: 2.1347 - val_acc: 0.2494\n",
      "Epoch 98/200\n",
      "7325/7325 [==============================] - 2s 222us/step - loss: 2.1465 - acc: 0.2386 - val_loss: 2.1358 - val_acc: 0.2494\n",
      "Epoch 99/200\n",
      "7325/7325 [==============================] - 2s 218us/step - loss: 2.1474 - acc: 0.2386 - val_loss: 2.1353 - val_acc: 0.2494\n",
      "Epoch 100/200\n",
      "7325/7325 [==============================] - 2s 216us/step - loss: 2.1464 - acc: 0.2386 - val_loss: 2.1354 - val_acc: 0.2494\n",
      "Epoch 101/200\n",
      "7325/7325 [==============================] - 2s 223us/step - loss: 2.1466 - acc: 0.2386 - val_loss: 2.1353 - val_acc: 0.2494\n",
      "Epoch 102/200\n",
      "7325/7325 [==============================] - 2s 217us/step - loss: 2.1465 - acc: 0.2386 - val_loss: 2.1364 - val_acc: 0.2494\n",
      "Epoch 103/200\n",
      "7325/7325 [==============================] - 2s 221us/step - loss: 2.1471 - acc: 0.2386 - val_loss: 2.1354 - val_acc: 0.2494\n",
      "Epoch 104/200\n",
      "7325/7325 [==============================] - 2s 219us/step - loss: 2.1464 - acc: 0.2386 - val_loss: 2.1340 - val_acc: 0.2494\n",
      "Epoch 105/200\n",
      "7325/7325 [==============================] - 2s 215us/step - loss: 2.1465 - acc: 0.2386 - val_loss: 2.1348 - val_acc: 0.2494\n",
      "Epoch 106/200\n",
      "7325/7325 [==============================] - 2s 220us/step - loss: 2.1471 - acc: 0.2386 - val_loss: 2.1342 - val_acc: 0.2494\n",
      "Epoch 107/200\n",
      "7325/7325 [==============================] - 2s 217us/step - loss: 2.1463 - acc: 0.2386 - val_loss: 2.1347 - val_acc: 0.2494\n",
      "Epoch 108/200\n",
      "7325/7325 [==============================] - 2s 220us/step - loss: 2.1466 - acc: 0.2386 - val_loss: 2.1342 - val_acc: 0.2494\n",
      "Epoch 109/200\n",
      "7325/7325 [==============================] - 2s 219us/step - loss: 2.1468 - acc: 0.2386 - val_loss: 2.1349 - val_acc: 0.2494\n",
      "Epoch 110/200\n",
      "7325/7325 [==============================] - 2s 222us/step - loss: 2.1468 - acc: 0.2386 - val_loss: 2.1339 - val_acc: 0.2494\n",
      "Epoch 111/200\n",
      "7325/7325 [==============================] - 2s 217us/step - loss: 2.1467 - acc: 0.2386 - val_loss: 2.1344 - val_acc: 0.2494\n",
      "Epoch 112/200\n",
      "7325/7325 [==============================] - 2s 219us/step - loss: 2.1467 - acc: 0.2386 - val_loss: 2.1340 - val_acc: 0.2494\n",
      "Epoch 113/200\n",
      "7325/7325 [==============================] - 2s 213us/step - loss: 2.1470 - acc: 0.2386 - val_loss: 2.1341 - val_acc: 0.2494\n",
      "Epoch 114/200\n",
      "7325/7325 [==============================] - 2s 215us/step - loss: 2.1464 - acc: 0.2386 - val_loss: 2.1353 - val_acc: 0.2494\n",
      "Epoch 115/200\n",
      "7325/7325 [==============================] - 2s 215us/step - loss: 2.1463 - acc: 0.2386 - val_loss: 2.1345 - val_acc: 0.2494\n",
      "Epoch 116/200\n",
      "7325/7325 [==============================] - 2s 216us/step - loss: 2.1464 - acc: 0.2386 - val_loss: 2.1340 - val_acc: 0.2494\n",
      "Epoch 117/200\n",
      "7325/7325 [==============================] - 2s 217us/step - loss: 2.1466 - acc: 0.2386 - val_loss: 2.1367 - val_acc: 0.2494\n",
      "Epoch 118/200\n",
      "7325/7325 [==============================] - 2s 216us/step - loss: 2.1466 - acc: 0.2386 - val_loss: 2.1339 - val_acc: 0.2494\n",
      "Epoch 119/200\n",
      "7325/7325 [==============================] - 2s 215us/step - loss: 2.1464 - acc: 0.2386 - val_loss: 2.1345 - val_acc: 0.2494\n",
      "Epoch 120/200\n"
     ]
    },
    {
     "name": "stdout",
     "output_type": "stream",
     "text": [
      "7325/7325 [==============================] - 2s 219us/step - loss: 2.1461 - acc: 0.2386 - val_loss: 2.1341 - val_acc: 0.2494\n",
      "Epoch 121/200\n",
      "7325/7325 [==============================] - 2s 219us/step - loss: 2.1466 - acc: 0.2386 - val_loss: 2.1346 - val_acc: 0.2494\n",
      "Epoch 122/200\n",
      "7325/7325 [==============================] - 2s 217us/step - loss: 2.1465 - acc: 0.2386 - val_loss: 2.1351 - val_acc: 0.2494\n",
      "Epoch 123/200\n",
      "7325/7325 [==============================] - 2s 216us/step - loss: 2.1465 - acc: 0.2386 - val_loss: 2.1337 - val_acc: 0.2494\n",
      "Epoch 124/200\n",
      "7325/7325 [==============================] - 2s 218us/step - loss: 2.1463 - acc: 0.2386 - val_loss: 2.1349 - val_acc: 0.2494\n",
      "Epoch 125/200\n",
      "7325/7325 [==============================] - 2s 220us/step - loss: 2.1463 - acc: 0.2386 - val_loss: 2.1343 - val_acc: 0.2494\n",
      "Epoch 126/200\n",
      "7325/7325 [==============================] - 2s 217us/step - loss: 2.1467 - acc: 0.2386 - val_loss: 2.1346 - val_acc: 0.2494\n",
      "Epoch 127/200\n",
      "7325/7325 [==============================] - 2s 218us/step - loss: 2.1465 - acc: 0.2386 - val_loss: 2.1350 - val_acc: 0.2494\n",
      "Epoch 128/200\n",
      "7325/7325 [==============================] - 2s 216us/step - loss: 2.1467 - acc: 0.2386 - val_loss: 2.1338 - val_acc: 0.2494\n",
      "Epoch 129/200\n",
      "7325/7325 [==============================] - 2s 217us/step - loss: 2.1466 - acc: 0.2386 - val_loss: 2.1354 - val_acc: 0.2494\n",
      "Epoch 130/200\n",
      "7325/7325 [==============================] - 2s 220us/step - loss: 2.1470 - acc: 0.2386 - val_loss: 2.1343 - val_acc: 0.2494\n",
      "Epoch 131/200\n",
      "7325/7325 [==============================] - 2s 218us/step - loss: 2.1466 - acc: 0.2386 - val_loss: 2.1355 - val_acc: 0.2494\n",
      "Epoch 132/200\n",
      "7325/7325 [==============================] - 2s 219us/step - loss: 2.1465 - acc: 0.2386 - val_loss: 2.1336 - val_acc: 0.2494\n",
      "Epoch 133/200\n",
      "7325/7325 [==============================] - 2s 216us/step - loss: 2.1466 - acc: 0.2386 - val_loss: 2.1352 - val_acc: 0.2494\n",
      "Epoch 134/200\n",
      "7325/7325 [==============================] - 2s 215us/step - loss: 2.1462 - acc: 0.2386 - val_loss: 2.1351 - val_acc: 0.2494\n",
      "Epoch 135/200\n",
      "7325/7325 [==============================] - 2s 222us/step - loss: 2.1469 - acc: 0.2386 - val_loss: 2.1347 - val_acc: 0.2494\n",
      "Epoch 136/200\n",
      "7325/7325 [==============================] - 2s 218us/step - loss: 2.1465 - acc: 0.2386 - val_loss: 2.1353 - val_acc: 0.2494\n",
      "Epoch 137/200\n",
      "7325/7325 [==============================] - 2s 220us/step - loss: 2.1460 - acc: 0.2386 - val_loss: 2.1349 - val_acc: 0.2494\n",
      "Epoch 138/200\n",
      "7325/7325 [==============================] - 2s 220us/step - loss: 2.1471 - acc: 0.2386 - val_loss: 2.1349 - val_acc: 0.2494\n",
      "Epoch 139/200\n",
      "7325/7325 [==============================] - 2s 221us/step - loss: 2.1465 - acc: 0.2386 - val_loss: 2.1347 - val_acc: 0.2494\n",
      "Epoch 140/200\n",
      "7325/7325 [==============================] - 2s 218us/step - loss: 2.1466 - acc: 0.2386 - val_loss: 2.1338 - val_acc: 0.2494\n",
      "Epoch 141/200\n",
      "7325/7325 [==============================] - 2s 218us/step - loss: 2.1466 - acc: 0.2386 - val_loss: 2.1347 - val_acc: 0.2494\n",
      "Epoch 142/200\n",
      "7325/7325 [==============================] - 2s 216us/step - loss: 2.1462 - acc: 0.2386 - val_loss: 2.1353 - val_acc: 0.2494\n",
      "Epoch 143/200\n",
      "7325/7325 [==============================] - 2s 216us/step - loss: 2.1460 - acc: 0.2386 - val_loss: 2.1342 - val_acc: 0.2494\n",
      "Epoch 144/200\n",
      "7325/7325 [==============================] - 2s 219us/step - loss: 2.1468 - acc: 0.2386 - val_loss: 2.1342 - val_acc: 0.2494\n",
      "Epoch 145/200\n",
      "7325/7325 [==============================] - 2s 217us/step - loss: 2.1462 - acc: 0.2386 - val_loss: 2.1341 - val_acc: 0.2494\n",
      "Epoch 146/200\n",
      "7325/7325 [==============================] - 2s 217us/step - loss: 2.1464 - acc: 0.2386 - val_loss: 2.1341 - val_acc: 0.2494\n",
      "Epoch 147/200\n",
      "7325/7325 [==============================] - 2s 217us/step - loss: 2.1465 - acc: 0.2386 - val_loss: 2.1346 - val_acc: 0.2494\n",
      "Epoch 148/200\n",
      "7325/7325 [==============================] - 2s 219us/step - loss: 2.1466 - acc: 0.2386 - val_loss: 2.1352 - val_acc: 0.2494\n",
      "Epoch 149/200\n",
      "7325/7325 [==============================] - 2s 219us/step - loss: 2.1463 - acc: 0.2386 - val_loss: 2.1341 - val_acc: 0.2494\n",
      "Epoch 150/200\n",
      "7325/7325 [==============================] - 2s 218us/step - loss: 2.1463 - acc: 0.2386 - val_loss: 2.1345 - val_acc: 0.2494\n",
      "Epoch 151/200\n",
      "7325/7325 [==============================] - 2s 220us/step - loss: 2.1463 - acc: 0.2386 - val_loss: 2.1343 - val_acc: 0.2494\n",
      "Epoch 152/200\n",
      "7325/7325 [==============================] - 2s 215us/step - loss: 2.1463 - acc: 0.2386 - val_loss: 2.1339 - val_acc: 0.2494\n",
      "Epoch 153/200\n",
      "7325/7325 [==============================] - 2s 219us/step - loss: 2.1468 - acc: 0.2386 - val_loss: 2.1343 - val_acc: 0.2494\n",
      "Epoch 154/200\n",
      "7325/7325 [==============================] - 2s 218us/step - loss: 2.1466 - acc: 0.2386 - val_loss: 2.1347 - val_acc: 0.2494\n",
      "Epoch 155/200\n",
      "7325/7325 [==============================] - 2s 217us/step - loss: 2.1461 - acc: 0.2386 - val_loss: 2.1341 - val_acc: 0.2494\n",
      "Epoch 156/200\n",
      "7325/7325 [==============================] - 2s 217us/step - loss: 2.1463 - acc: 0.2386 - val_loss: 2.1345 - val_acc: 0.2494\n",
      "Epoch 157/200\n",
      "7325/7325 [==============================] - 2s 219us/step - loss: 2.1461 - acc: 0.2386 - val_loss: 2.1344 - val_acc: 0.2494\n",
      "Epoch 158/200\n",
      "7325/7325 [==============================] - 2s 215us/step - loss: 2.1464 - acc: 0.2386 - val_loss: 2.1345 - val_acc: 0.2494\n",
      "Epoch 159/200\n",
      "7325/7325 [==============================] - 2s 217us/step - loss: 2.1460 - acc: 0.2386 - val_loss: 2.1342 - val_acc: 0.2494\n",
      "Epoch 160/200\n",
      "7325/7325 [==============================] - 2s 219us/step - loss: 2.1466 - acc: 0.2386 - val_loss: 2.1341 - val_acc: 0.2494\n",
      "Epoch 161/200\n",
      "7325/7325 [==============================] - 2s 217us/step - loss: 2.1464 - acc: 0.2386 - val_loss: 2.1350 - val_acc: 0.2494\n",
      "Epoch 162/200\n",
      "7325/7325 [==============================] - 2s 224us/step - loss: 2.1464 - acc: 0.2386 - val_loss: 2.1342 - val_acc: 0.2494\n",
      "Epoch 163/200\n",
      "7325/7325 [==============================] - 2s 226us/step - loss: 2.1461 - acc: 0.2386 - val_loss: 2.1340 - val_acc: 0.2494\n",
      "Epoch 164/200\n",
      "7325/7325 [==============================] - 2s 221us/step - loss: 2.1463 - acc: 0.2386 - val_loss: 2.1345 - val_acc: 0.2494\n",
      "Epoch 165/200\n",
      "7325/7325 [==============================] - 2s 222us/step - loss: 2.1461 - acc: 0.2386 - val_loss: 2.1340 - val_acc: 0.2494\n",
      "Epoch 166/200\n",
      "7325/7325 [==============================] - 2s 220us/step - loss: 2.1464 - acc: 0.2386 - val_loss: 2.1340 - val_acc: 0.2494\n",
      "Epoch 167/200\n",
      "7325/7325 [==============================] - 2s 220us/step - loss: 2.1463 - acc: 0.2386 - val_loss: 2.1349 - val_acc: 0.2494\n",
      "Epoch 168/200\n",
      "7325/7325 [==============================] - 2s 218us/step - loss: 2.1461 - acc: 0.2386 - val_loss: 2.1346 - val_acc: 0.2494\n",
      "Epoch 169/200\n",
      "7325/7325 [==============================] - 2s 215us/step - loss: 2.1467 - acc: 0.2386 - val_loss: 2.1347 - val_acc: 0.2494\n",
      "Epoch 170/200\n",
      "7325/7325 [==============================] - 2s 225us/step - loss: 2.1465 - acc: 0.2386 - val_loss: 2.1342 - val_acc: 0.2494\n",
      "Epoch 171/200\n",
      "7325/7325 [==============================] - 2s 217us/step - loss: 2.1461 - acc: 0.2386 - val_loss: 2.1346 - val_acc: 0.2494\n",
      "Epoch 172/200\n",
      "7325/7325 [==============================] - 2s 218us/step - loss: 2.1463 - acc: 0.2386 - val_loss: 2.1352 - val_acc: 0.2494\n",
      "Epoch 173/200\n",
      "7325/7325 [==============================] - 2s 216us/step - loss: 2.1462 - acc: 0.2386 - val_loss: 2.1349 - val_acc: 0.2494\n",
      "Epoch 174/200\n",
      "7325/7325 [==============================] - 2s 221us/step - loss: 2.1460 - acc: 0.2386 - val_loss: 2.1344 - val_acc: 0.2494\n",
      "Epoch 175/200\n",
      "7325/7325 [==============================] - 2s 223us/step - loss: 2.1461 - acc: 0.2386 - val_loss: 2.1345 - val_acc: 0.2494\n",
      "Epoch 176/200\n",
      "7325/7325 [==============================] - 2s 215us/step - loss: 2.1466 - acc: 0.2386 - val_loss: 2.1355 - val_acc: 0.2494\n",
      "Epoch 177/200\n",
      "7325/7325 [==============================] - 2s 217us/step - loss: 2.1461 - acc: 0.2386 - val_loss: 2.1358 - val_acc: 0.2494\n",
      "Epoch 178/200\n",
      "7325/7325 [==============================] - 2s 216us/step - loss: 2.1464 - acc: 0.2386 - val_loss: 2.1351 - val_acc: 0.2494\n",
      "Epoch 179/200\n"
     ]
    },
    {
     "name": "stdout",
     "output_type": "stream",
     "text": [
      "7325/7325 [==============================] - 2s 223us/step - loss: 2.1464 - acc: 0.2386 - val_loss: 2.1363 - val_acc: 0.2494\n",
      "Epoch 180/200\n",
      "7325/7325 [==============================] - 2s 215us/step - loss: 2.1465 - acc: 0.2386 - val_loss: 2.1342 - val_acc: 0.2494\n",
      "Epoch 181/200\n",
      "7325/7325 [==============================] - 2s 221us/step - loss: 2.1461 - acc: 0.2386 - val_loss: 2.1344 - val_acc: 0.2494\n",
      "Epoch 182/200\n",
      "7325/7325 [==============================] - 2s 218us/step - loss: 2.1464 - acc: 0.2386 - val_loss: 2.1361 - val_acc: 0.2494\n",
      "Epoch 183/200\n",
      "7325/7325 [==============================] - 2s 218us/step - loss: 2.1461 - acc: 0.2386 - val_loss: 2.1340 - val_acc: 0.2494\n",
      "Epoch 184/200\n",
      "7325/7325 [==============================] - 2s 222us/step - loss: 2.1464 - acc: 0.2386 - val_loss: 2.1346 - val_acc: 0.2494\n",
      "Epoch 185/200\n",
      "7325/7325 [==============================] - 2s 223us/step - loss: 2.1464 - acc: 0.2386 - val_loss: 2.1346 - val_acc: 0.2494\n",
      "Epoch 186/200\n",
      "7325/7325 [==============================] - 2s 220us/step - loss: 2.1462 - acc: 0.2386 - val_loss: 2.1341 - val_acc: 0.2494\n",
      "Epoch 187/200\n",
      "7325/7325 [==============================] - 2s 219us/step - loss: 2.1463 - acc: 0.2386 - val_loss: 2.1345 - val_acc: 0.2494\n",
      "Epoch 188/200\n",
      "7325/7325 [==============================] - 2s 220us/step - loss: 2.1462 - acc: 0.2386 - val_loss: 2.1357 - val_acc: 0.2494\n",
      "Epoch 189/200\n",
      "7325/7325 [==============================] - 2s 217us/step - loss: 2.1466 - acc: 0.2386 - val_loss: 2.1340 - val_acc: 0.2494\n",
      "Epoch 190/200\n",
      "7325/7325 [==============================] - 2s 222us/step - loss: 2.1465 - acc: 0.2386 - val_loss: 2.1339 - val_acc: 0.2494\n",
      "Epoch 191/200\n",
      "7325/7325 [==============================] - 2s 217us/step - loss: 2.1463 - acc: 0.2386 - val_loss: 2.1351 - val_acc: 0.2494\n",
      "Epoch 192/200\n",
      "7325/7325 [==============================] - 2s 213us/step - loss: 2.1465 - acc: 0.2386 - val_loss: 2.1347 - val_acc: 0.2494\n",
      "Epoch 193/200\n",
      "7325/7325 [==============================] - 2s 219us/step - loss: 2.1463 - acc: 0.2386 - val_loss: 2.1337 - val_acc: 0.2494\n",
      "Epoch 194/200\n",
      "7325/7325 [==============================] - 2s 220us/step - loss: 2.1464 - acc: 0.2386 - val_loss: 2.1351 - val_acc: 0.2494\n",
      "Epoch 195/200\n",
      "7325/7325 [==============================] - 2s 217us/step - loss: 2.1462 - acc: 0.2386 - val_loss: 2.1348 - val_acc: 0.2494\n",
      "Epoch 196/200\n",
      "7325/7325 [==============================] - 2s 218us/step - loss: 2.1466 - acc: 0.2386 - val_loss: 2.1347 - val_acc: 0.2494\n",
      "Epoch 197/200\n",
      "7325/7325 [==============================] - 2s 218us/step - loss: 2.1462 - acc: 0.2386 - val_loss: 2.1346 - val_acc: 0.2494\n",
      "Epoch 198/200\n",
      "7325/7325 [==============================] - 2s 219us/step - loss: 2.1464 - acc: 0.2386 - val_loss: 2.1347 - val_acc: 0.2494\n",
      "Epoch 199/200\n",
      "7325/7325 [==============================] - 2s 220us/step - loss: 2.1461 - acc: 0.2386 - val_loss: 2.1348 - val_acc: 0.2494\n",
      "Epoch 200/200\n",
      "7325/7325 [==============================] - 2s 217us/step - loss: 2.1462 - acc: 0.2386 - val_loss: 2.1339 - val_acc: 0.2494\n",
      "2713/2713 [==============================] - 0s 51us/step\n"
     ]
    }
   ],
   "source": [
    "callbacks = [EarlyStopping('val_main_output_acc', patience=6)]\n",
    "\n",
    "model.compile(optimizer=Adam, loss='categorical_crossentropy',\n",
    "              metrics=['accuracy'])\n",
    "\n",
    "history = model.fit([sext_train, pent_train], y_binary_train,\n",
    "          epochs=200, batch_size=128, callbacks=callbacks, validation_split=.1)\n",
    "score = model.evaluate([sext_test, pent_test], y_binary_test, batch_size=128)"
   ]
  },
  {
   "cell_type": "code",
   "execution_count": 38,
   "metadata": {},
   "outputs": [
    {
     "data": {
      "text/plain": [
       "[1.8775640079731701,\n",
       " 0.8021467751873141,\n",
       " 0.31094391474282657,\n",
       " 0.7644733066405927,\n",
       " 0.6402506449105684,\n",
       " 0.9288610393957946,\n",
       " 0.6892738664365544]"
      ]
     },
     "execution_count": 38,
     "metadata": {},
     "output_type": "execute_result"
    }
   ],
   "source": [
    "score"
   ]
  },
  {
   "cell_type": "code",
   "execution_count": 39,
   "metadata": {},
   "outputs": [
    {
     "data": {
      "image/png": "[encoded data removed]",
      "text/plain": [
       "<matplotlib.figure.Figure at 0x7f8a74d620f0>"
      ]
     },
     "metadata": {},
     "output_type": "display_data"
    }
   ],
   "source": [
    "plt.plot(history.history['loss'])\n",
    "plt.plot(history.history['val_loss'])\n",
    "plt.plot(history.history['val_main_output_loss'])\n",
    "plt.plot(history.history['val_auxiliary_output_1_loss'])\n",
    "plt.plot(history.history['val_auxiliary_output_2_loss'])\n",
    "plt.title('model loss')\n",
    "plt.ylabel('loss')\n",
    "plt.xlabel('epoch')\n",
    "plt.legend(['train', 'validation', 'main_output', 'aux_1', 'aux_2'], loc='upper left')\n",
    "plt.show()"
   ]
  },
  {
   "cell_type": "code",
   "execution_count": 40,
   "metadata": {},
   "outputs": [
    {
     "data": {
      "image/png": "[encoded data removed]",
      "text/plain": [
       "<matplotlib.figure.Figure at 0x7f8a774c6b70>"
      ]
     },
     "metadata": {},
     "output_type": "display_data"
    }
   ],
   "source": [
    "plt.plot(history.history['main_output_acc'])\n",
    "plt.plot(history.history['val_main_output_acc'])\n",
    "plt.plot(history.history['val_auxiliary_output_1_acc'])\n",
    "plt.plot(history.history['val_auxiliary_output_2_acc'])\n",
    "plt.title('model accuracy')\n",
    "plt.ylabel('accuracy')\n",
    "plt.xlabel('epoch')\n",
    "plt.legend(['train', 'validation', 'aux_1', 'aux_2'], loc='upper left')\n",
    "plt.show()"
   ]
  },
  {
   "cell_type": "code",
   "execution_count": 42,
   "metadata": {},
   "outputs": [
    {
     "name": "stdout",
     "output_type": "stream",
     "text": [
      "0.7724910219981661\n",
      "0.6224721225763263\n"
     ]
    }
   ],
   "source": [
    "print(np.mean(history.history['val_auxiliary_output_1_acc']))\n",
    "print(np.mean(history.history['val_auxiliary_output_2_acc']))"
   ]
  },
  {
   "cell_type": "code",
   "execution_count": null,
   "metadata": {},
   "outputs": [],
   "source": []
  }
 ],
 "metadata": {
  "kernelspec": {
   "display_name": "Python 3",
   "language": "python",
   "name": "python3"
  },
  "language_info": {
   "codemirror_mode": {
    "name": "ipython",
    "version": 3
   },
   "file_extension": ".py",
   "mimetype": "text/x-python",
   "name": "python",
   "nbconvert_exporter": "python",
   "pygments_lexer": "ipython3",
   "version": "3.6.4"
  }
 },
 "nbformat": 4,
 "nbformat_minor": 2
}
