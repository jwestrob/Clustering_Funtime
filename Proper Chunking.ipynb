{
 "cells": [
  {
   "cell_type": "code",
   "execution_count": 1,
   "metadata": {},
   "outputs": [
    {
     "name": "stderr",
     "output_type": "stream",
     "text": [
      "/home/jacob/anaconda3/lib/python3.6/site-packages/h5py/__init__.py:36: FutureWarning: Conversion of the second argument of issubdtype from `float` to `np.floating` is deprecated. In future, it will be treated as `np.float64 == np.dtype(float).type`.\n",
      "  from ._conv import register_converters as _register_converters\n"
     ]
    }
   ],
   "source": [
    "from time import time\n",
    "import os, sys, csv\n",
    "import numpy as np\n",
    "from pylab import *\n",
    "import pylab as pylab\n",
    "import matplotlib.pyplot as plt\n",
    "from mpl_toolkits.mplot3d import Axes3D\n",
    "from matplotlib.ticker import NullFormatter\n",
    "from MulticoreTSNE import MulticoreTSNE as TSNE\n",
    "from scipy import stats\n",
    "\n",
    "\n",
    "from kpal.klib import Profile\n",
    "\n",
    "import pandas as pd\n",
    "\n",
    "import umap\n",
    "\n",
    "from sklearn import manifold\n",
    "from sklearn.utils import check_random_state\n",
    "from sklearn.model_selection import train_test_split\n",
    "from sklearn import svm\n",
    "import umap\n",
    "from sklearn.datasets import load_digits\n",
    "from Bio import SeqIO\n",
    "from io import StringIO\n",
    "import sys"
   ]
  },
  {
   "cell_type": "code",
   "execution_count": 2,
   "metadata": {},
   "outputs": [],
   "source": [
    "def calc_kmer_freqs(split_seqs, kmer_size):\n",
    "    '''\n",
    "    Use kpal to calculate kmer frequencies for split sequences\n",
    "    '''\n",
    "\n",
    "    kmer_freqs = []\n",
    "    for seq in split_seqs:\n",
    "        temp_list = []\n",
    "\n",
    "        #for some reason this kmer counter function only works on iterable(str) type objects.\n",
    "        temp_list.append(str(seq))\n",
    "        ktable = Profile.from_sequences(temp_list, kmer_size, name=None)\n",
    "\n",
    "        #skip sequences with a lot of Ns/characters besides A|T|C|G\n",
    "        if len(str(seq)) < 3000:\n",
    "            if ktable.total >= len(str(seq))/2:\n",
    "                ktable.counts = [count/ktable.total for count in ktable.counts]\n",
    "                kmer_freqs.append(ktable.counts)\n",
    "        else:\n",
    "            if ktable.total >= 1500:\n",
    "                ktable.counts = [count/ktable.total for count in ktable.counts]\n",
    "                kmer_freqs.append(ktable.counts)\n",
    "\n",
    "    return kmer_freqs\n",
    "\n",
    "def chunk_sequence(sequence, min_size, max_size):\n",
    "    '''\n",
    "    Cut sequences longer than 5kb into 5kb chunks and exclude trailing sequences\n",
    "    if shorter than user specified min_length\n",
    "    '''\n",
    "\n",
    "    split_seqs = []\n",
    "    while True:\n",
    "        chunk = sequence.read(max_size)\n",
    "        if len(chunk) >= min_size:\n",
    "            split_seqs.append(chunk)\n",
    "        else:\n",
    "            break\n",
    "\n",
    "    return split_seqs"
   ]
  },
  {
   "cell_type": "code",
   "execution_count": 3,
   "metadata": {},
   "outputs": [],
   "source": [
    "contig_labels = np.load('contig_labels.npy')"
   ]
  },
  {
   "cell_type": "code",
   "execution_count": 4,
   "metadata": {},
   "outputs": [],
   "source": [
    "pentamer_list = []\n",
    "new_labels = []\n",
    "\n",
    "max_size = 5000\n",
    "min_size = 1000\n",
    "\n",
    "for index, record in enumerate(SeqIO.parse('/home/jacob/Documents/Corals/Maxbin_Simulated_80x_metagenome.scaffold.fasta', \"fasta\")):\n",
    "    s = StringIO(str(record.seq))\n",
    "    split_seqs = []\n",
    "    kmer_freqs = []\n",
    "\n",
    "    #split sequence into 5kb max_size chunks\n",
    "    split_seqs = chunk_sequence(s, min_size, max_size)\n",
    "\n",
    "    #Calculate kmer frequences for each chunk\n",
    "    kmer_freqs = calc_kmer_freqs(split_seqs, 5)\n",
    "\n",
    "    pentamer_list.append(kmer_freqs)\n",
    "pentamer_array = np.array(pentamer_list)"
   ]
  },
  {
   "cell_type": "markdown",
   "metadata": {},
   "source": [
    "## So we have a nested list. At each level:\n",
    "    contig  ---> split1 ---> (1024,) ndarray\n",
    "\n",
    "            ---> ...\n",
    "\n",
    "            ---> splitm ---> (1024,) ndarray"
   ]
  },
  {
   "cell_type": "code",
   "execution_count": 39,
   "metadata": {},
   "outputs": [
    {
     "name": "stdout",
     "output_type": "stream",
     "text": [
      "10852\n"
     ]
    }
   ],
   "source": [
    "length = 0\n",
    "for contig in pentamer_list:\n",
    "    for i in range(len(contig)):\n",
    "        length += 1\n",
    "        \n",
    "print(length)"
   ]
  },
  {
   "cell_type": "code",
   "execution_count": 56,
   "metadata": {},
   "outputs": [],
   "source": [
    "flatter_list = []\n",
    "new_labels = []\n",
    "hmm = 0\n",
    "for index, contig in enumerate(pentamer_list):\n",
    "    for i, kmer_freq in enumerate(contig):\n",
    "        hmm += 1\n",
    "        #Append correct number of corresponding labels to y\n",
    "        new_labels.append(contig_labels[index])\n",
    "        flatter_list.append(kmer_freq)"
   ]
  },
  {
   "cell_type": "code",
   "execution_count": 57,
   "metadata": {},
   "outputs": [
    {
     "name": "stdout",
     "output_type": "stream",
     "text": [
      "10852\n",
      "10852\n"
     ]
    }
   ],
   "source": [
    "print(len(flatter_list))\n",
    "print(len(new_labels))"
   ]
  },
  {
   "cell_type": "code",
   "execution_count": 58,
   "metadata": {},
   "outputs": [],
   "source": [
    "np.save('pentamer_fixed_labels.npy', np.array(new_labels))\n",
    "np.save('pentamer_fixed_data.npy', np.array(flatter_list))"
   ]
  },
  {
   "cell_type": "code",
   "execution_count": 59,
   "metadata": {},
   "outputs": [],
   "source": [
    "def perform_bullshit(kmer_length, prefix):\n",
    "    kmer_list = []\n",
    "\n",
    "    max_size = 5000\n",
    "    min_size = 1000\n",
    "\n",
    "    for index, record in enumerate(SeqIO.parse('/home/jacob/Documents/Corals/Maxbin_Simulated_80x_metagenome.scaffold.fasta', \"fasta\")):\n",
    "        s = StringIO(str(record.seq))\n",
    "        split_seqs = []\n",
    "        kmer_freqs = []\n",
    "\n",
    "        #split sequence into 5kb max_size chunks\n",
    "        split_seqs = chunk_sequence(s, min_size, max_size)\n",
    "\n",
    "        #Calculate kmer frequences for each chunk\n",
    "        kmer_freqs = calc_kmer_freqs(split_seqs, kmer_length)\n",
    "\n",
    "        kmer_list.append(kmer_freqs)\n",
    "    flatter_list = []\n",
    "    new_labels = []\n",
    "    hmm = 0\n",
    "    for index, contig in enumerate(kmer_list):\n",
    "        for i, kmer_freq in enumerate(contig):\n",
    "            hmm += 1\n",
    "            #Append correct number of corresponding labels to y\n",
    "            new_labels.append(contig_labels[index])\n",
    "            flatter_list.append(kmer_freq)\n",
    "    np.save(prefix+'_fixed_labels.npy', np.array(new_labels))\n",
    "    np.save(prefix+'_fixed_data.npy', np.array(flatter_list))\n",
    "    return"
   ]
  },
  {
   "cell_type": "code",
   "execution_count": null,
   "metadata": {},
   "outputs": [
    {
     "name": "stdout",
     "output_type": "stream",
     "text": [
      "bullshit performed: tetramer\n",
      "bullshit performed: sextamer\n",
      "bullshit performed: septamer\n"
     ]
    }
   ],
   "source": [
    "perform_bullshit(4, 'tetramer')\n",
    "print('bullshit performed: tetramer')\n",
    "perform_bullshit(6, 'sextamer')\n",
    "print('bullshit performed: sextamer')\n",
    "perform_bullshit(7, 'septamer')\n",
    "print('bullshit performed: septamer')\n",
    "perform_bullshit(8, 'octamer')\n",
    "print('bullshit performed: octamer')"
   ]
  },
  {
   "cell_type": "code",
   "execution_count": null,
   "metadata": {},
   "outputs": [],
   "source": []
  }
 ],
 "metadata": {
  "kernelspec": {
   "display_name": "Python 3",
   "language": "python",
   "name": "python3"
  },
  "language_info": {
   "codemirror_mode": {
    "name": "ipython",
    "version": 3
   },
   "file_extension": ".py",
   "mimetype": "text/x-python",
   "name": "python",
   "nbconvert_exporter": "python",
   "pygments_lexer": "ipython3",
   "version": "3.6.4"
  }
 },
 "nbformat": 4,
 "nbformat_minor": 2
}
